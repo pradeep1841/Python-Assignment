{
 "cells": [
  {
   "cell_type": "markdown",
   "id": "6b8fcaeb",
   "metadata": {},
   "source": [
    "# Python Programming assignment-10"
   ]
  },
  {
   "cell_type": "markdown",
   "id": "026b6797",
   "metadata": {},
   "source": [
    "### 1. Write a Python program to find sum of elements in list?"
   ]
  },
  {
   "cell_type": "code",
   "execution_count": 1,
   "id": "4eb34aad",
   "metadata": {},
   "outputs": [
    {
     "name": "stdout",
     "output_type": "stream",
     "text": [
      "Enter the no of Entries in a List: 5\n",
      "Enter an element: 2\n",
      "Enter an element: 3\n",
      "Enter an element: 4\n",
      "Enter an element: 5\n",
      "Enter an element: 6\n",
      "Sum of Elements: 20\n"
     ]
    }
   ],
   "source": [
    "def sumOfList():\n",
    "    ele = int(input(\"Enter the no of Entries in a List: \"))\n",
    "    l = []\n",
    "    for itr in range(ele):\n",
    "        l.append(int(input(\"Enter an element: \")))\n",
    "    print(f'Sum of Elements: {sum(l)}')\n",
    "sumOfList()    "
   ]
  },
  {
   "cell_type": "markdown",
   "id": "9c7f1043",
   "metadata": {},
   "source": [
    "### 2. Write a Python program to Multiply all numbers in the list?"
   ]
  },
  {
   "cell_type": "code",
   "execution_count": 2,
   "id": "54ffc68d",
   "metadata": {},
   "outputs": [
    {
     "name": "stdout",
     "output_type": "stream",
     "text": [
      "Enter the No of Entries in a List: 5\n",
      "Enter a element: 2\n",
      "Enter a element: 1\n",
      "Enter a element: 3\n",
      "Enter a element: 4\n",
      "Enter a element: 5\n",
      "120\n"
     ]
    }
   ],
   "source": [
    "def mulOfList():\n",
    "    ele = int(input(\"Enter the No of Entries in a List: \"))\n",
    "    l = []\n",
    "    mul = 1\n",
    "    for itr in range(ele):\n",
    "        l.append(int(input(\"Enter a element: \")))\n",
    "    for ele in l:\n",
    "        mul = ele * mul\n",
    "    print(mul)\n",
    "mulOfList()    "
   ]
  },
  {
   "cell_type": "markdown",
   "id": "0137d5b2",
   "metadata": {},
   "source": [
    "### 3. Write a Python program to find smallest number in a list?"
   ]
  },
  {
   "cell_type": "code",
   "execution_count": 3,
   "id": "5e4a400a",
   "metadata": {},
   "outputs": [
    {
     "name": "stdout",
     "output_type": "stream",
     "text": [
      "Enter the no of elements in a list: 5\n",
      "Enter a Element: 54\n",
      "Enter a Element: 50\n",
      "Enter a Element: 60\n",
      "Enter a Element: 12\n",
      "Enter a Element: 52\n",
      "The Smallest Element in [54, 50, 60, 12, 52] is 12\n"
     ]
    }
   ],
   "source": [
    "def smallEleList():\n",
    "    ele = int(input(\"Enter the no of elements in a list: \"))\n",
    "    l = []\n",
    "    for i in range(ele):\n",
    "        l.append(int(input(\"Enter a Element: \")))\n",
    "    print(f'The Smallest Element in {l} is {sorted(l)[0]}')\n",
    "smallEleList()    "
   ]
  },
  {
   "cell_type": "markdown",
   "id": "f9b8c479",
   "metadata": {},
   "source": [
    "### 4. Write a Python program to find largest number in a list?"
   ]
  },
  {
   "cell_type": "code",
   "execution_count": 5,
   "id": "2f347e65",
   "metadata": {},
   "outputs": [
    {
     "name": "stdout",
     "output_type": "stream",
     "text": [
      "Enter the no of elements in a list: 5\n",
      "Enter a Element: 52\n",
      "Enter a Element: 12\n",
      "Enter a Element: 75\n",
      "Enter a Element: 62\n",
      "Enter a Element: 82\n",
      "The Largest Element in [52, 12, 75, 62, 82] is 82\n"
     ]
    }
   ],
   "source": [
    "def smallEleList():\n",
    "    ele = int(input(\"Enter the no of elements in a list: \"))\n",
    "    l = []\n",
    "    for i in range(ele):\n",
    "        l.append(int(input(\"Enter a Element: \")))\n",
    "    print(f'The Largest Element in {l} is {sorted(l, reverse=True)[0]}')\n",
    "smallEleList() "
   ]
  },
  {
   "cell_type": "markdown",
   "id": "ef30695f",
   "metadata": {},
   "source": [
    "### 5. Write a Python program to find second largest number in a list?"
   ]
  },
  {
   "cell_type": "code",
   "execution_count": 6,
   "id": "af0d3795",
   "metadata": {},
   "outputs": [
    {
     "name": "stdout",
     "output_type": "stream",
     "text": [
      "Enter the no of elements in a list: 5\n",
      "Enter a Element: 45\n",
      "Enter a Element: 25\n",
      "Enter a Element: 75\n",
      "Enter a Element: 33\n",
      "Enter a Element: 65\n",
      "The Largest Element in [45, 25, 75, 33, 65] is 65\n"
     ]
    }
   ],
   "source": [
    "def smallEleList():\n",
    "    ele = int(input(\"Enter the no of elements in a list: \"))\n",
    "    l = []\n",
    "    for i in range(ele):\n",
    "        l.append(int(input(\"Enter a Element: \")))\n",
    "    print(f'The Largest Element in {l} is {sorted(l, reverse=True)[1]}')\n",
    "smallEleList() "
   ]
  },
  {
   "cell_type": "markdown",
   "id": "6530891f",
   "metadata": {},
   "source": [
    "### 6. Write a Python program to find N largest elements from a list?"
   ]
  },
  {
   "cell_type": "code",
   "execution_count": 3,
   "id": "b5785278",
   "metadata": {},
   "outputs": [
    {
     "name": "stdout",
     "output_type": "stream",
     "text": [
      "Enter the No of elements in a list: 7\n",
      "Enter a Element: 52\n",
      "Enter a Element: 56\n",
      "Enter a Element: 25\n",
      "Enter a Element: 45\n",
      "Enter a Element: 63\n",
      "Enter a Element: 75\n",
      "Enter a Element: 65\n",
      "The 4 Largest Element is [52, 56, 25, 45, 63, 75, 65] is [75, 65, 63, 56]\n"
     ]
    }
   ],
   "source": [
    "def nLargestEleInList(k):\n",
    "    ele = int(input(\"Enter the No of elements in a list: \"))\n",
    "    l = []\n",
    "    for i in range(ele):\n",
    "        l.append(int(input(\"Enter a Element: \")))\n",
    "    print(f'The {k} Largest Element is {l} is {sorted(l,reverse=True)[0:k]}')\n",
    "        \n",
    "nLargestEleInList(4)   "
   ]
  },
  {
   "cell_type": "markdown",
   "id": "7b15cc7d",
   "metadata": {},
   "source": [
    "# 7.Write a Python Program to find even numbers in the list ?"
   ]
  },
  {
   "cell_type": "code",
   "execution_count": 5,
   "id": "205a6400",
   "metadata": {},
   "outputs": [
    {
     "name": "stdout",
     "output_type": "stream",
     "text": [
      "Enter the No of elements in a List: 5\n",
      "Enter a element: 4\n",
      "Enter a element: 2\n",
      "Enter a element: 6\n",
      "Enter a element: 3\n",
      "Enter a element: 11\n",
      "The Even Element in [4, 2, 6, 3, 11] are [4, 2, 6]\n"
     ]
    }
   ],
   "source": [
    "def evenNoInList():\n",
    "    ele = int(input(\"Enter the No of elements in a List: \"))\n",
    "    l=[]\n",
    "    even_list=[]\n",
    "    for i in range(ele):\n",
    "        l.append(int(input(\"Enter a element: \")))\n",
    "    for i in l:\n",
    "        if i%2==0:\n",
    "            even_list.append(i)\n",
    "    print(f'The Even Element in {l} are {even_list}')\n",
    "    \n",
    "evenNoInList()    \n",
    "        "
   ]
  },
  {
   "cell_type": "markdown",
   "id": "facea77c",
   "metadata": {},
   "source": [
    "### 8. Write a Python program to print odd numbers in a List?"
   ]
  },
  {
   "cell_type": "code",
   "execution_count": 6,
   "id": "4ca6bea1",
   "metadata": {},
   "outputs": [
    {
     "name": "stdout",
     "output_type": "stream",
     "text": [
      "Enter the No of elements in a List: 5\n",
      "Enter a element: 2\n",
      "Enter a element: 6\n",
      "Enter a element: 9\n",
      "Enter a element: 7\n",
      "Enter a element: 3\n",
      "The Even Element in [2, 6, 9, 7, 3] are [9, 7, 3]\n"
     ]
    }
   ],
   "source": [
    "def evenNoInList():\n",
    "    ele = int(input(\"Enter the No of elements in a List: \"))\n",
    "    l=[]\n",
    "    even_list=[]\n",
    "    for i in range(ele):\n",
    "        l.append(int(input(\"Enter a element: \")))\n",
    "    for i in l:\n",
    "        if i%2!=0:\n",
    "            even_list.append(i)\n",
    "    print(f'The Even Element in {l} are {even_list}')\n",
    "    \n",
    "evenNoInList()"
   ]
  },
  {
   "cell_type": "markdown",
   "id": "e40ad06f",
   "metadata": {},
   "source": [
    "### 9. Write a Python program to Remove empty List from List?"
   ]
  },
  {
   "cell_type": "code",
   "execution_count": 14,
   "id": "e0a949e6",
   "metadata": {},
   "outputs": [
    {
     "name": "stdout",
     "output_type": "stream",
     "text": [
      "Enter all elements of the list: [1,2,3,4,5,[],6,7,8,9]\n",
      "There is an empty List in [1, 2, 3, 4, 5, [], 6, 7, 8, 9] at position 5\n",
      "The List after removing [] is [1, 2, 3, 4, 5, 6, 7, 8, 9]\n"
     ]
    }
   ],
   "source": [
    "def checkEmptyList():\n",
    "    in_list = eval(input(\"Enter all elements of the list: \"))\n",
    "    if [] in in_list:\n",
    "        print(f'There is an empty List in {in_list} at position {in_list.index([])}')\n",
    "        in_list.remove([])\n",
    "        print(f'The List after removing [] is {in_list}')\n",
    "    else:\n",
    "        print(f'There is no [] List in the list {in_list}')\n",
    "checkEmptyList()        "
   ]
  },
  {
   "cell_type": "markdown",
   "id": "ae92eaba",
   "metadata": {},
   "source": [
    "### 10.Write a Python Program to Cloning or Copying a list ?"
   ]
  },
  {
   "cell_type": "code",
   "execution_count": 17,
   "id": "35324541",
   "metadata": {},
   "outputs": [
    {
     "name": "stdout",
     "output_type": "stream",
     "text": [
      "Enter a list: [1,2,3,4,5,6]\n",
      "[1, 2, 3, 4, 5, 6] 2365648685184\n",
      "[1, 2, 3, 4, 5, 6] 2365648671680\n"
     ]
    }
   ],
   "source": [
    "import copy\n",
    "\n",
    "def cloneList():\n",
    "    l = eval(input(\"Enter a list: \"))\n",
    "    print(l,id(l))\n",
    "    cloned_list = l.copy()\n",
    "    print(cloned_list, id(cloned_list))\n",
    "    \n",
    "cloneList()    "
   ]
  },
  {
   "cell_type": "markdown",
   "id": "fbc995db",
   "metadata": {},
   "source": [
    "### 11.Write a Python Program to count occurences of an element in a list ?"
   ]
  },
  {
   "cell_type": "code",
   "execution_count": 20,
   "id": "9e876a67",
   "metadata": {},
   "outputs": [
    {
     "name": "stdout",
     "output_type": "stream",
     "text": [
      "Enter the elements of the list: 1,2,3,1,2,3,4,4,4,1,1,2\n",
      "Enter the element to find: 2\n",
      "There are 3 occurances of 2 in (1, 2, 3, 1, 2, 3, 4, 4, 4, 1, 1, 2)\n"
     ]
    }
   ],
   "source": [
    "def checkOccurance():\n",
    "    list1 = eval(input(\"Enter the elements of the list: \"))\n",
    "    num = eval(input(\"Enter the element to find: \"))\n",
    "    count = 0\n",
    "    if num in list1:\n",
    "        for ele in list1:\n",
    "            if ele == num:\n",
    "                count = count+1\n",
    "     \n",
    "    print(f'There are {count} occurances of {num} in {list1}')\n",
    "    \n",
    "checkOccurance()"
   ]
  }
 ],
 "metadata": {
  "kernelspec": {
   "display_name": "Python 3 (ipykernel)",
   "language": "python",
   "name": "python3"
  },
  "language_info": {
   "codemirror_mode": {
    "name": "ipython",
    "version": 3
   },
   "file_extension": ".py",
   "mimetype": "text/x-python",
   "name": "python",
   "nbconvert_exporter": "python",
   "pygments_lexer": "ipython3",
   "version": "3.9.7"
  }
 },
 "nbformat": 4,
 "nbformat_minor": 5
}
