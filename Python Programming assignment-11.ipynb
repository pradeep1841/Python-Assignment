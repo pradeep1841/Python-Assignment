{
 "cells": [
  {
   "cell_type": "markdown",
   "id": "461e31cf",
   "metadata": {},
   "source": [
    "# Python Programming assignment-11"
   ]
  },
  {
   "cell_type": "markdown",
   "id": "0f1fa938",
   "metadata": {},
   "source": [
    "### 1. Write a Python program to find words which are greater than given length k?"
   ]
  },
  {
   "cell_type": "code",
   "execution_count": 3,
   "id": "e803659b",
   "metadata": {},
   "outputs": [
    {
     "name": "stdout",
     "output_type": "stream",
     "text": [
      "Enter the String: Pradeep Kumar is a good student in his entire life.\n",
      "Enter the length of the string: 4\n",
      "Pradeep,Kumar,student,entire,life.\n"
     ]
    }
   ],
   "source": [
    "def checkLengthOfString():\n",
    "    in_string = input(\"Enter the String: \")\n",
    "    in_length = int(input(\"Enter the length of the string: \"))\n",
    "    out_String = []\n",
    "    for string in in_string.split(\" \"):\n",
    "        if len(string) > in_length:\n",
    "            out_String.append(string)\n",
    "    print(','.join(out_String))\n",
    "checkLengthOfString()    "
   ]
  },
  {
   "cell_type": "markdown",
   "id": "88da8a06",
   "metadata": {},
   "source": [
    "### 2. Write a Python program for removing i-th character from a string?"
   ]
  },
  {
   "cell_type": "code",
   "execution_count": 4,
   "id": "b2ce30af",
   "metadata": {},
   "outputs": [
    {
     "name": "stdout",
     "output_type": "stream",
     "text": [
      "Enter the String: ineuron\n",
      "Enter the ith Character: 2\n",
      "inuron\n"
     ]
    }
   ],
   "source": [
    "def removeCharacter():\n",
    "    in_string = input(\"Enter the String: \")\n",
    "    in_char_num = int(input(\"Enter the ith Character: \"))\n",
    "    out_string = ''\n",
    "    for ele in range(len(in_string)):\n",
    "        if ele!=in_char_num:\n",
    "            out_string = out_string + in_string[ele]\n",
    "    print(out_string) \n",
    "    \n",
    "removeCharacter()    "
   ]
  },
  {
   "cell_type": "markdown",
   "id": "6ca1b886",
   "metadata": {},
   "source": [
    "### 3. Write a Python program to split and join a string?"
   ]
  },
  {
   "cell_type": "code",
   "execution_count": 7,
   "id": "2fe1a484",
   "metadata": {},
   "outputs": [
    {
     "name": "stdout",
     "output_type": "stream",
     "text": [
      "Enter the String: India is the largest country in the world.\n",
      "Split String: ['India', 'is', 'the', 'largest', 'country', 'in', 'the', 'world.']\n",
      " Join String: India is the largest country in the world.\n"
     ]
    }
   ],
   "source": [
    "def splitJoinString():\n",
    "    in_string = input(\"Enter the String: \")\n",
    "    print(f\"Split String: {in_string.split(' ')}\")\n",
    "    print(f\" Join String: {' '.join(in_string.split(' '))}\")\n",
    "    \n",
    "splitJoinString()    "
   ]
  },
  {
   "cell_type": "markdown",
   "id": "6cab99db",
   "metadata": {},
   "source": [
    "### 4. Write a Python to check if a given string is binary string or not ?"
   ]
  },
  {
   "cell_type": "code",
   "execution_count": 9,
   "id": "77ce1eb5",
   "metadata": {},
   "outputs": [
    {
     "name": "stdout",
     "output_type": "stream",
     "text": [
      "Enter the String: 1234\n",
      " 1234 is not a binary string\n",
      "Enter the String: 101011\n",
      " 101011 is a binary string\n"
     ]
    }
   ],
   "source": [
    "def checkBinary():\n",
    "    in_string = input(\"Enter the String: \")\n",
    "    s = 0\n",
    "    for ele in in_string:\n",
    "        if ele in ['0','1']:\n",
    "            s = 1\n",
    "            continue\n",
    "        else:\n",
    "            s = 0\n",
    "            break\n",
    "    statement = 'is a binary string' if s == 1 else 'is not a binary string'\n",
    "    print(f' {in_string} {statement}')\n",
    "checkBinary()\n",
    "checkBinary()"
   ]
  },
  {
   "cell_type": "markdown",
   "id": "76e23397",
   "metadata": {},
   "source": [
    "### 5. Write a Python program to find uncommon words from two Strings ?"
   ]
  },
  {
   "cell_type": "code",
   "execution_count": 10,
   "id": "3413d174",
   "metadata": {},
   "outputs": [
    {
     "name": "stdout",
     "output_type": "stream",
     "text": [
      "Enter the string 1: Mother Choice\n",
      "Enter the string 2: Father Choice\n",
      "{'Father', 'Mother'}\n"
     ]
    }
   ],
   "source": [
    "def unCommonWords():\n",
    "    in_string1 = set(input(\"Enter the string 1: \").split(' '))\n",
    "    in_string2 = set(input(\"Enter the string 2: \").split(' '))\n",
    "    out_string = (in_string1.union(in_string2)).difference(in_string1.intersection(in_string2))\n",
    "    print(out_string)\n",
    "    \n",
    "unCommonWords()   "
   ]
  },
  {
   "cell_type": "markdown",
   "id": "c4496b0f",
   "metadata": {},
   "source": [
    "### 6. Write a Python to find all duplicate characters in string ?"
   ]
  },
  {
   "cell_type": "code",
   "execution_count": 11,
   "id": "8f7dacb5",
   "metadata": {},
   "outputs": [
    {
     "name": "stdout",
     "output_type": "stream",
     "text": [
      "Enter the String: full stack data science course\n",
      "Duplicate characters are: ['t', 'e', 'u', 'c', 's', 'a', ' ', 'l']\n"
     ]
    }
   ],
   "source": [
    "def duplicateChars():\n",
    "    in_string = input(\"Enter the String: \")\n",
    "    non_duplicate_list = []\n",
    "    duplicate_list = []\n",
    "    for ele in in_string:\n",
    "        if ele not in non_duplicate_list:\n",
    "            non_duplicate_list.append(ele)\n",
    "        else:\n",
    "            duplicate_list.append(ele)\n",
    "    print(f'Duplicate characters are: {list(set(duplicate_list))}') \n",
    "    \n",
    "duplicateChars()    \n",
    "    "
   ]
  },
  {
   "cell_type": "markdown",
   "id": "1fa9360b",
   "metadata": {},
   "source": [
    "### 7. Write a Python Program to check if a string contains any special character?"
   ]
  },
  {
   "cell_type": "code",
   "execution_count": 1,
   "id": "bb53708a",
   "metadata": {},
   "outputs": [
    {
     "name": "stdout",
     "output_type": "stream",
     "text": [
      "Enter the string:  DS @ Ineuron by Sudhanshu & krish\n",
      "There are2 Special Characters in DS @ Ineuron by Sudhanshu & krish which are ['@', '&']\n"
     ]
    }
   ],
   "source": [
    "def checkSpecialChar():\n",
    "    spl_chars='[@_!#$%^&*()<>?/\\|}{~:]'\n",
    "    in_num = input(\"Enter the string: \")\n",
    "    count = 0\n",
    "    char_list=[]\n",
    "    for ele in in_num:\n",
    "        if ele in spl_chars:\n",
    "            char_list.append(ele)\n",
    "            count = count+1\n",
    "    print(f'There are{count} Special Characters in{in_num} which are {char_list}')\n",
    "    \n",
    "checkSpecialChar()\n",
    "#checkSpecialChar()\n",
    "    "
   ]
  },
  {
   "cell_type": "code",
   "execution_count": null,
   "id": "7b2948f0",
   "metadata": {},
   "outputs": [],
   "source": []
  },
  {
   "cell_type": "code",
   "execution_count": null,
   "id": "d435a724",
   "metadata": {},
   "outputs": [],
   "source": []
  }
 ],
 "metadata": {
  "kernelspec": {
   "display_name": "Python 3 (ipykernel)",
   "language": "python",
   "name": "python3"
  },
  "language_info": {
   "codemirror_mode": {
    "name": "ipython",
    "version": 3
   },
   "file_extension": ".py",
   "mimetype": "text/x-python",
   "name": "python",
   "nbconvert_exporter": "python",
   "pygments_lexer": "ipython3",
   "version": "3.9.7"
  }
 },
 "nbformat": 4,
 "nbformat_minor": 5
}
