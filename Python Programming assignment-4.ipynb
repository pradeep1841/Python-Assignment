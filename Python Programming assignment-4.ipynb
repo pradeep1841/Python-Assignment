{
 "cells": [
  {
   "cell_type": "markdown",
   "id": "dcddc0b2",
   "metadata": {},
   "source": [
    "# Python Programming assignment-4"
   ]
  },
  {
   "cell_type": "markdown",
   "id": "fb0a1e48",
   "metadata": {},
   "source": [
    "#### 1. Write a Python Program to Find the Factorial of a Number?"
   ]
  },
  {
   "cell_type": "code",
   "execution_count": 2,
   "id": "ed2fe0c5",
   "metadata": {},
   "outputs": [
    {
     "name": "stdout",
     "output_type": "stream",
     "text": [
      "Enter a number: 6\n",
      "The Factorial of 6 is 720\n"
     ]
    }
   ],
   "source": [
    "def factorial(num):\n",
    "    if num < 1:\n",
    "        return 1\n",
    "    else:\n",
    "        return num * factorial(num-1)\n",
    "num=int(input(\"Enter a number: \"))\n",
    "value=factorial(num)\n",
    "print(f'The Factorial of {num} is {value}')\n"
   ]
  },
  {
   "cell_type": "markdown",
   "id": "4db1a497",
   "metadata": {},
   "source": [
    "### 2. Write a Python Program to Display the multiplication Table?"
   ]
  },
  {
   "cell_type": "code",
   "execution_count": 3,
   "id": "8ff924ba",
   "metadata": {},
   "outputs": [
    {
     "name": "stdout",
     "output_type": "stream",
     "text": [
      "Enter a Number: 5\n",
      "Enter no of b: 10\n",
      "5 X 1 = 5\n",
      "5 X 2 = 10\n",
      "5 X 3 = 15\n",
      "5 X 4 = 20\n",
      "5 X 5 = 25\n",
      "5 X 6 = 30\n",
      "5 X 7 = 35\n",
      "5 X 8 = 40\n",
      "5 X 9 = 45\n",
      "5 X 10 = 50\n"
     ]
    }
   ],
   "source": [
    "def generateTable(a,b):\n",
    "    for x in range(1,b+1):\n",
    "        print(f'{a} X {x} = {a*x}')\n",
    "        \n",
    "num = int(input(\"Enter a Number: \"))\n",
    "value = int(input(\"Enter no of b: \"))\n",
    "generateTable(num,value)"
   ]
  },
  {
   "cell_type": "markdown",
   "id": "faadb419",
   "metadata": {},
   "source": [
    "### 3. Write a Python Program to Print the Fibonacci sequence?"
   ]
  },
  {
   "cell_type": "code",
   "execution_count": 5,
   "id": "e3988c15",
   "metadata": {},
   "outputs": [
    {
     "name": "stdout",
     "output_type": "stream",
     "text": [
      "Enter the Range: 10\n",
      "0\n",
      "1\n",
      "1\n",
      "2\n",
      "3\n",
      "5\n",
      "8\n",
      "13\n",
      "21\n",
      "34\n"
     ]
    }
   ],
   "source": [
    "def fib(num):\n",
    "    if num==0:\n",
    "        return 0\n",
    "    elif num==1:\n",
    "        return 1\n",
    "    else:\n",
    "        return fib(num-2) + fib(num-1)\n",
    "    \n",
    "num = int(input(\"Enter the Range: \"))\n",
    "for x in range(0, num):\n",
    "    print(fib(x))"
   ]
  },
  {
   "cell_type": "markdown",
   "id": "3950adc1",
   "metadata": {},
   "source": [
    "### 4. Write a Python Program to Check Armstrong Number?"
   ]
  },
  {
   "cell_type": "code",
   "execution_count": 7,
   "id": "9cbe57d8",
   "metadata": {},
   "outputs": [
    {
     "name": "stdout",
     "output_type": "stream",
     "text": [
      "Enter a  number: 407\n",
      "407 is an Armstrong Number \n"
     ]
    }
   ],
   "source": [
    "num = int(input(\"Enter a  number: \"))\n",
    "s = 0\n",
    "temp = num\n",
    "while temp > 0:\n",
    "    digit=temp % 10\n",
    "    s = s+digit **3\n",
    "    temp //=10\n",
    "    \n",
    "if num==s:\n",
    "    print(num, \"is an Armstrong Number \")\n",
    "else:\n",
    "    print(num, \"is not an Armstrong Number \")"
   ]
  },
  {
   "cell_type": "markdown",
   "id": "39b8afbf",
   "metadata": {},
   "source": [
    "### 5. Write a Python Program to Find Armstrong Number in an Interval?"
   ]
  },
  {
   "cell_type": "code",
   "execution_count": 11,
   "id": "6259fe38",
   "metadata": {},
   "outputs": [
    {
     "name": "stdout",
     "output_type": "stream",
     "text": [
      "Enter the start of the Interval: 1\n",
      "Enter the end of the Interval: 10000\n",
      " The Armstrong numbers between 1 and 10000 are [1, 153, 370, 371, 407]\n"
     ]
    }
   ],
   "source": [
    "def checkArmstrong(in_num,storage):\n",
    "    sum = 0\n",
    "    for char in range(len(in_num)):\n",
    "        sum = sum + pow(int(in_num[char]),3)\n",
    "    if sum == int(in_num):\n",
    "        storage.append(int(in_num))\n",
    "        \n",
    "start_interval = int(input('Enter the start of the Interval: '))\n",
    "end_interval = int(input('Enter the end of the Interval: '))\n",
    "list_of_armstrong=[]\n",
    "\n",
    "if start_interval > end_interval:\n",
    "    print(\"Start Interval Cannot be Greater thna End Inteval:\")\n",
    "else:\n",
    "    for number in range(start_interval, end_interval+1):\n",
    "        checkArmstrong(str(number),list_of_armstrong)\n",
    "    print(f' The Armstrong numbers between {start_interval} and {end_interval} are {list_of_armstrong}' )    "
   ]
  },
  {
   "cell_type": "markdown",
   "id": "962aa0e6",
   "metadata": {},
   "source": [
    "### 6. Write a Python Program to Find the Sum of Natural Numbers?"
   ]
  },
  {
   "cell_type": "code",
   "execution_count": 13,
   "id": "a85bb0dd",
   "metadata": {},
   "outputs": [
    {
     "name": "stdout",
     "output_type": "stream",
     "text": [
      "Enter a number: 100\n",
      " Sum of 100 natural Number is 5050.0\n"
     ]
    }
   ],
   "source": [
    "def sumOfNatural(num):\n",
    "    sum = num * ((num+1)/2)\n",
    "    print(f' Sum of {num} natural Number is {sum}')\n",
    "    \n",
    "num = int(input(\"Enter a number: \"))\n",
    "sumOfNatural(num)"
   ]
  },
  {
   "cell_type": "code",
   "execution_count": null,
   "id": "42f31869",
   "metadata": {},
   "outputs": [],
   "source": []
  }
 ],
 "metadata": {
  "kernelspec": {
   "display_name": "Python 3 (ipykernel)",
   "language": "python",
   "name": "python3"
  },
  "language_info": {
   "codemirror_mode": {
    "name": "ipython",
    "version": 3
   },
   "file_extension": ".py",
   "mimetype": "text/x-python",
   "name": "python",
   "nbconvert_exporter": "python",
   "pygments_lexer": "ipython3",
   "version": "3.9.7"
  }
 },
 "nbformat": 4,
 "nbformat_minor": 5
}
