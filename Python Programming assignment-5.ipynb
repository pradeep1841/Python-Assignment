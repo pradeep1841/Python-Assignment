{
 "cells": [
  {
   "cell_type": "markdown",
   "id": "8cd06149",
   "metadata": {},
   "source": [
    "# Python Programming assignment-5"
   ]
  },
  {
   "cell_type": "markdown",
   "id": "b4c9795b",
   "metadata": {},
   "source": [
    "### 1. Write a Python Program to Find LCM?"
   ]
  },
  {
   "cell_type": "code",
   "execution_count": 1,
   "id": "b23593c6",
   "metadata": {},
   "outputs": [
    {
     "name": "stdout",
     "output_type": "stream",
     "text": [
      "The LCM of 3,6 is 6\n",
      "The LCM of 5,2 is 10\n"
     ]
    }
   ],
   "source": [
    "def findLcm(x_term, y_term):\n",
    "    if x_term > y_term:\n",
    "        greater = x_term\n",
    "    else:\n",
    "        greater = x_term\n",
    "    while True:\n",
    "        if((greater%x_term==0) and (greater%y_term==0)):\n",
    "            lcm=greater\n",
    "            break\n",
    "        else:\n",
    "            greater +=1\n",
    "    print(f'The LCM of {x_term},{y_term} is {lcm}') \n",
    "\n",
    "findLcm(3,6)\n",
    "findLcm(5,2)"
   ]
  },
  {
   "cell_type": "markdown",
   "id": "491a4783",
   "metadata": {},
   "source": [
    "### 2. Write a Python Program to Find HCF?"
   ]
  },
  {
   "cell_type": "code",
   "execution_count": 2,
   "id": "8280524a",
   "metadata": {},
   "outputs": [
    {
     "name": "stdout",
     "output_type": "stream",
     "text": [
      "The HCF of 6, 12 is 6\n",
      "The HCF of 2, 3 is 1\n",
      "The HCF of 10, 23 is 1\n"
     ]
    }
   ],
   "source": [
    "def findHcf(x_term,y_term):\n",
    "    if x_term > y_term:\n",
    "        smaller = y_term\n",
    "    else:\n",
    "        smaller = x_term\n",
    "    for ele in range(1,smaller+1):\n",
    "        if((x_term%ele==0) and (y_term%ele ==0)):\n",
    "            hcf = ele\n",
    "    print(f'The HCF of {x_term}, {y_term} is {hcf}')\n",
    "    \n",
    "    \n",
    "findHcf(6,12)\n",
    "findHcf(2,3)\n",
    "findHcf(10,23)"
   ]
  },
  {
   "cell_type": "markdown",
   "id": "7148f1c2",
   "metadata": {},
   "source": [
    "### 3. Write a Python Program to Convert Decimal to Binary, Octal and Hexadecimal?"
   ]
  },
  {
   "cell_type": "code",
   "execution_count": 5,
   "id": "9731f572",
   "metadata": {},
   "outputs": [
    {
     "name": "stdout",
     "output_type": "stream",
     "text": [
      "Enter a Number: 245545\n",
      " Binary Number -> 0b111011111100101001\n",
      " Octal Number -> 0o737451\n",
      "Hexadecimal Number -> 0x3bf29\n"
     ]
    }
   ],
   "source": [
    "def DecimalToOctal():\n",
    "    num = int(input('Enter a Number: '))\n",
    "    print(f' Binary Number -> {bin(num)}')\n",
    "    print(f' Octal Number -> {oct(num)}')\n",
    "    print(f'Hexadecimal Number -> {hex(num)}')\n",
    "    \n",
    "DecimalToOctal()    "
   ]
  },
  {
   "cell_type": "markdown",
   "id": "aaad7536",
   "metadata": {},
   "source": [
    "### 4. Write a Python Program To Find ASCII value of a character?"
   ]
  },
  {
   "cell_type": "code",
   "execution_count": 7,
   "id": "f9569774",
   "metadata": {},
   "outputs": [
    {
     "name": "stdout",
     "output_type": "stream",
     "text": [
      "Enter a character: A\n",
      "Ascii Character of A is 65\n"
     ]
    }
   ],
   "source": [
    "def charToAscii():\n",
    "    char = input(\"Enter a character: \")\n",
    "    if len(char) > 1:\n",
    "        print(\"Please Enter a Single Character\")\n",
    "    else:\n",
    "        print(f'Ascii Character of {char} is {ord(char)}')\n",
    "        \n",
    "charToAscii()        "
   ]
  },
  {
   "cell_type": "markdown",
   "id": "d033cc02",
   "metadata": {},
   "source": [
    "### 5. Write a Python Program to Make a Simple Calculator with 4 basic mathematical operations?"
   ]
  },
  {
   "cell_type": "code",
   "execution_count": 10,
   "id": "7b81d381",
   "metadata": {},
   "outputs": [
    {
     "name": "stdout",
     "output_type": "stream",
     "text": [
      "Select an Arithmatic Operation:       \n",
      "1.Addition(+)      \n",
      "2.Subtraction(-)      \n",
      "3.Multiplication(*)      \n",
      "4.Divison(/)      \n",
      "5.Stop(0)\n",
      "\n",
      "Enter an arithmetic operation -> +\n",
      "\n",
      " Enter 1st Number: 10\n",
      "Enter 2nd Number: 20\n",
      "10+20 = 30\n",
      "\n",
      "Enter an arithmetic operation -> -\n",
      "\n",
      " Enter 1st Number: 10\n",
      "Enter 2nd Number: 20\n",
      "10-20 = -10\n",
      "\n",
      "Enter an arithmetic operation -> *\n",
      "\n",
      " Enter 1st Number: 10\n",
      "Enter 2nd Number: 20\n",
      "10*20 = 200\n",
      "\n",
      "Enter an arithmetic operation -> /\n",
      "\n",
      " Enter 1st Number: 10\n",
      "Enter 2nd Number: 20\n",
      "10/20 = 0.5\n",
      "\n",
      "Enter an arithmetic operation -> 0\n",
      "Progrma Stopped Successfully\n"
     ]
    }
   ],
   "source": [
    "import operator\n",
    "ops ={\"+\": operator.add, '-': operator.sub, '*':operator.mul, '/': operator.truediv}\n",
    "\n",
    "print('Select an Arithmatic Operation: \\\n",
    "      \\n1.Addition(+)\\\n",
    "      \\n2.Subtraction(-)\\\n",
    "      \\n3.Multiplication(*)\\\n",
    "      \\n4.Divison(/)\\\n",
    "      \\n5.Stop(0)\\n')\n",
    "while True:\n",
    "    operator = input('Enter an arithmetic operation -> ')\n",
    "    if operator == '0':\n",
    "        print('Progrma Stopped Successfully')\n",
    "        break\n",
    "    elif operator not in ['+','-','*','/']:\n",
    "        print(\"Please Enter a valid operator\")\n",
    "    else:\n",
    "        num1=int(input(\"\\n Enter 1st Number: \"))\n",
    "        num2=int(input(\"Enter 2nd Number: \"))\n",
    "        print(f'{num1}{operator}{num2} = {ops[operator](num1,num2)}\\n')\n"
   ]
  }
 ],
 "metadata": {
  "kernelspec": {
   "display_name": "Python 3 (ipykernel)",
   "language": "python",
   "name": "python3"
  },
  "language_info": {
   "codemirror_mode": {
    "name": "ipython",
    "version": 3
   },
   "file_extension": ".py",
   "mimetype": "text/x-python",
   "name": "python",
   "nbconvert_exporter": "python",
   "pygments_lexer": "ipython3",
   "version": "3.9.7"
  }
 },
 "nbformat": 4,
 "nbformat_minor": 5
}
