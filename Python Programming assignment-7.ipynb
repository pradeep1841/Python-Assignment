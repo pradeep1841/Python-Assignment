{
 "cells": [
  {
   "cell_type": "markdown",
   "id": "ab8b8555",
   "metadata": {},
   "source": [
    "# Python Programming assignment-7"
   ]
  },
  {
   "cell_type": "markdown",
   "id": "9575fcc5",
   "metadata": {},
   "source": [
    "### 1. Write a Python Program to find sum of array?"
   ]
  },
  {
   "cell_type": "code",
   "execution_count": 2,
   "id": "cfd067fa",
   "metadata": {},
   "outputs": [
    {
     "name": "stdout",
     "output_type": "stream",
     "text": [
      "Enter the array: [1,2,3,4,5]\n",
      "The sum of [1, 2, 3, 4, 5] is 15\n"
     ]
    }
   ],
   "source": [
    "def sumOfArray():\n",
    "    arr = eval(input(\"Enter the array: \"))\n",
    "    print(f'The sum of {arr} is {sum(arr)}')\n",
    "    \n",
    "sumOfArray()    \n",
    "    "
   ]
  },
  {
   "cell_type": "markdown",
   "id": "69780c31",
   "metadata": {},
   "source": [
    "### 2. Write a Python Program to find largest element in an array?"
   ]
  },
  {
   "cell_type": "code",
   "execution_count": 6,
   "id": "a20bba42",
   "metadata": {},
   "outputs": [
    {
     "name": "stdout",
     "output_type": "stream",
     "text": [
      "Enter the Array: [23,44,66,2,33,34,553,23,11,33]\n",
      " The Largest Element of [23, 44, 66, 2, 33, 34, 553, 23, 11, 33] is 553\n"
     ]
    }
   ],
   "source": [
    "def largestEle():\n",
    "    arr = eval(input(\"Enter the Array: \"))\n",
    "    print(f' The Largest Element of {arr} is {sorted(arr, reverse=True)[0]}')\n",
    "          \n",
    "largestEle()         "
   ]
  },
  {
   "cell_type": "markdown",
   "id": "e4b45be7",
   "metadata": {},
   "source": [
    "### 3. Write a Python Program for array rotation?"
   ]
  },
  {
   "cell_type": "code",
   "execution_count": 7,
   "id": "62656855",
   "metadata": {},
   "outputs": [
    {
     "name": "stdout",
     "output_type": "stream",
     "text": [
      "Enter the Arra: [12,34,55,11,4]\n",
      " The Reverse of Array [12, 34, 55, 11, 4] is [4, 11, 55, 34, 12]\n"
     ]
    }
   ],
   "source": [
    "def reverseOfArray():\n",
    "    arr = eval(input(\"Enter the Arra: \"))\n",
    "    print(f' The Reverse of Array {arr} is {arr[::-1]}')\n",
    "    \n",
    "reverseOfArray()    "
   ]
  },
  {
   "cell_type": "markdown",
   "id": "7e99828a",
   "metadata": {},
   "source": [
    "### 4. Write a Python Program to Split the array and add the first part to the end?"
   ]
  },
  {
   "cell_type": "code",
   "execution_count": 9,
   "id": "28870b41",
   "metadata": {},
   "outputs": [
    {
     "name": "stdout",
     "output_type": "stream",
     "text": [
      "Enter the Array: [33,44,12,24,0,4]\n",
      " The sum of First and Last Of Array [33, 44, 12, 24, 0, 4] is 37\n"
     ]
    }
   ],
   "source": [
    "def sumOfSplits():\n",
    "    arr = eval(input(\"Enter the Array: \"))\n",
    "    print(f' The sum of First and Last Of Array {arr} is {arr[0]+arr[-1]}')\n",
    "    \n",
    "sumOfSplits()    "
   ]
  },
  {
   "cell_type": "markdown",
   "id": "3813ad7c",
   "metadata": {},
   "source": [
    "### 5. Write a Python Program to check if given array is Monotonic?"
   ]
  },
  {
   "cell_type": "code",
   "execution_count": null,
   "id": "b7582a69",
   "metadata": {},
   "outputs": [
    {
     "name": "stdout",
     "output_type": "stream",
     "text": [
      "Enter the Array: 33,32,112,45,3434\n",
      "Array (33, 32, 112, 45, 3434) is Not Monotonic\n"
     ]
    }
   ],
   "source": [
    "def checkMonotonic():\n",
    "    arr = eval(input(\"Enter the Array: \"))\n",
    "    if(all(arr[i]<=arr[i+1] for i in range(len(arr)-1)) or all(arr[i]>=arr[i+1] for i in range(len(arr)-1))):\n",
    "        print(f' Array {arr} is Monotonic')\n",
    "    else:\n",
    "        print(f'Array {arr} is Not Monotonic')\n",
    "        \n",
    "checkMonotonic()\n",
    "checkMonotonic()\n",
    "    "
   ]
  },
  {
   "cell_type": "code",
   "execution_count": null,
   "id": "8e0399c5",
   "metadata": {},
   "outputs": [],
   "source": []
  }
 ],
 "metadata": {
  "kernelspec": {
   "display_name": "Python 3 (ipykernel)",
   "language": "python",
   "name": "python3"
  },
  "language_info": {
   "codemirror_mode": {
    "name": "ipython",
    "version": 3
   },
   "file_extension": ".py",
   "mimetype": "text/x-python",
   "name": "python",
   "nbconvert_exporter": "python",
   "pygments_lexer": "ipython3",
   "version": "3.9.7"
  }
 },
 "nbformat": 4,
 "nbformat_minor": 5
}
