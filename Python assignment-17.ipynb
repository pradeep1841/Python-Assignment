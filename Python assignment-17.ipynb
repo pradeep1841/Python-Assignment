{
 "cells": [
  {
   "cell_type": "markdown",
   "id": "7c72240e",
   "metadata": {},
   "source": [
    "# Python assignment-17"
   ]
  },
  {
   "cell_type": "markdown",
   "id": "d28fd3c9",
   "metadata": {},
   "source": [
    "### 1. Assign the value 7 to the variable guess_me. Then, write the conditional tests (if, else, and elif) to print the string 'too low' if guess_me is less than 7, 'too high' if greater than 7, and 'just right' if equal to 7."
   ]
  },
  {
   "cell_type": "code",
   "execution_count": 1,
   "id": "1d87fb61",
   "metadata": {},
   "outputs": [
    {
     "name": "stdout",
     "output_type": "stream",
     "text": [
      "just right\n",
      "too low\n",
      "too high\n"
     ]
    }
   ],
   "source": [
    "def guess_me(guess_me):\n",
    "    if guess_me < 7:\n",
    "        print('too low')\n",
    "    elif guess_me > 7:\n",
    "        print('too high')\n",
    "    else:\n",
    "        print('just right')\n",
    "        \n",
    "guess_me(guess_me=7)\n",
    "guess_me(guess_me=5)\n",
    "guess_me(guess_me=10)"
   ]
  },
  {
   "cell_type": "markdown",
   "id": "ce594cdf",
   "metadata": {},
   "source": [
    "### 2. Assign the value 7 to the variable guess_me and the value 1 to the variable start. Write a while loop that compares start with guess_me. Print too low if start is less than guess me. If start equals guess_me, print 'found it!' and exit the loop. If start is greater than guess_me, print 'oops' and exit the loop. Increment start at the end of the loop"
   ]
  },
  {
   "cell_type": "code",
   "execution_count": 2,
   "id": "07f97881",
   "metadata": {},
   "outputs": [
    {
     "name": "stdout",
     "output_type": "stream",
     "text": [
      "too low\n",
      "too low\n",
      "too low\n",
      "too low\n",
      "too low\n",
      "too low\n",
      "found it\n"
     ]
    }
   ],
   "source": [
    "guess_me = 7\n",
    "start = 1\n",
    "while True:\n",
    "    if start < guess_me:\n",
    "        print('too low')\n",
    "    elif start==guess_me:\n",
    "        print('found it')\n",
    "        break\n",
    "    else:\n",
    "        print('oops')\n",
    "        break\n",
    "    start +=1\n",
    "    \n",
    "    "
   ]
  },
  {
   "cell_type": "markdown",
   "id": "bf876cd5",
   "metadata": {},
   "source": [
    "### 3. Print the following values of the list [3, 2, 1, 0] using a for loop."
   ]
  },
  {
   "cell_type": "code",
   "execution_count": 3,
   "id": "de5618dd",
   "metadata": {},
   "outputs": [
    {
     "name": "stdout",
     "output_type": "stream",
     "text": [
      "3\n",
      "2\n",
      "1\n",
      "0\n"
     ]
    }
   ],
   "source": [
    "list = [3,2,1,0]\n",
    "for i in list:\n",
    "    print(i)"
   ]
  },
  {
   "cell_type": "markdown",
   "id": "7b8eb441",
   "metadata": {},
   "source": [
    "### 4. Use a list comprehension to make a list of the even numbers in range(10)"
   ]
  },
  {
   "cell_type": "code",
   "execution_count": 6,
   "id": "66455aea",
   "metadata": {},
   "outputs": [
    {
     "name": "stdout",
     "output_type": "stream",
     "text": [
      "[0, 2, 4, 6, 8, 10]\n"
     ]
    }
   ],
   "source": [
    "print([x for x in range(11) if x%2==0])"
   ]
  },
  {
   "cell_type": "markdown",
   "id": "9a1be926",
   "metadata": {},
   "source": [
    "### 5. Use a dictionary comprehension to create the dictionary squares. Use range(10) to return the keys, and use the square of each key as its value."
   ]
  },
  {
   "cell_type": "code",
   "execution_count": 8,
   "id": "7db9e9e1",
   "metadata": {},
   "outputs": [
    {
     "name": "stdout",
     "output_type": "stream",
     "text": [
      "{0: 0, 1: 1, 2: 4, 3: 9, 4: 16, 5: 25, 6: 36, 7: 49, 8: 64, 9: 81}\n"
     ]
    }
   ],
   "source": [
    "print({x:x**2 for x in range(10)})"
   ]
  },
  {
   "cell_type": "markdown",
   "id": "1927c987",
   "metadata": {},
   "source": [
    "### 6. Construct the set odd from the odd numbers in the range using a set comprehension (10)."
   ]
  },
  {
   "cell_type": "code",
   "execution_count": 9,
   "id": "65e6c782",
   "metadata": {},
   "outputs": [
    {
     "name": "stdout",
     "output_type": "stream",
     "text": [
      "{1, 3, 5, 7, 9}\n"
     ]
    }
   ],
   "source": [
    "print({x for x in range(10) if x%2!=0})"
   ]
  },
  {
   "cell_type": "markdown",
   "id": "fd9771c0",
   "metadata": {},
   "source": [
    "### 7. Use a generator comprehension to return the string 'Got ' and a number for the numbers in range(10). Iterate through this by using a for loop\n"
   ]
  },
  {
   "cell_type": "code",
   "execution_count": 12,
   "id": "7cbdbcd4",
   "metadata": {},
   "outputs": [
    {
     "name": "stdout",
     "output_type": "stream",
     "text": [
      "Got_0 Got_1 Got_2 Got_3 Got_4 Got_5 Got_6 Got_7 Got_8 Got_9 "
     ]
    }
   ],
   "source": [
    "gen=('Got_'+str(x) for x in range(10))\n",
    "for ele in gen:\n",
    "    print(ele, end=' ')"
   ]
  },
  {
   "cell_type": "markdown",
   "id": "957121c4",
   "metadata": {},
   "source": [
    "### 8. Define a function called good that returns the list ['Harry', 'Ron', 'Hermione']."
   ]
  },
  {
   "cell_type": "code",
   "execution_count": 13,
   "id": "b446a003",
   "metadata": {},
   "outputs": [
    {
     "data": {
      "text/plain": [
       "['Harry', 'Ron', 'Hermione']"
      ]
     },
     "execution_count": 13,
     "metadata": {},
     "output_type": "execute_result"
    }
   ],
   "source": [
    "def good():\n",
    "    x = ['Harry', 'Ron', 'Hermione']\n",
    "    return x\n",
    "good()"
   ]
  },
  {
   "cell_type": "markdown",
   "id": "c179f03c",
   "metadata": {},
   "source": [
    "### 9. Define a generator function called get_odds that returns the odd numbers from range(10). Use a for loop to find and print the third value returned."
   ]
  },
  {
   "cell_type": "code",
   "execution_count": 14,
   "id": "43e2245f",
   "metadata": {},
   "outputs": [
    {
     "data": {
      "text/plain": [
       "5"
      ]
     },
     "execution_count": 14,
     "metadata": {},
     "output_type": "execute_result"
    }
   ],
   "source": [
    "def get_odds():\n",
    "    output=[]\n",
    "    for ele in range(10):\n",
    "        if ele%2!=0:\n",
    "            output.append(ele)\n",
    "    yield output\n",
    "\n",
    "next(get_odds())[2]    "
   ]
  },
  {
   "cell_type": "markdown",
   "id": "14b3b306",
   "metadata": {},
   "source": [
    "### 10. Define an exception called OopsException. Raise this exception to see what happens. Then write the code to catch this exception and print 'Caught an oops'."
   ]
  },
  {
   "cell_type": "code",
   "execution_count": 15,
   "id": "ea6b02e8",
   "metadata": {},
   "outputs": [
    {
     "name": "stdout",
     "output_type": "stream",
     "text": [
      "Caught in Oops-> name 'a' is not defined\n"
     ]
    }
   ],
   "source": [
    "class OopsException(Exception):\n",
    "    pass\n",
    "def test(input):\n",
    "    if input<0:\n",
    "        raise OopsException(a)\n",
    "try:\n",
    "    test(-100)\n",
    "    \n",
    "except Exception as e:\n",
    "    print('Caught in Oops->' ,e)\n",
    "    "
   ]
  },
  {
   "cell_type": "markdown",
   "id": "39187f16",
   "metadata": {},
   "source": [
    "### 11. Use zip() to make a dictionary called movies that pairs these lists: titles = ['Creature of Habit', 'Crewel Fate'] and plots = ['A nun turns into a monster', 'A haunted yarn shop'].\n"
   ]
  },
  {
   "cell_type": "code",
   "execution_count": 19,
   "id": "3b0fd381",
   "metadata": {},
   "outputs": [
    {
     "name": "stdout",
     "output_type": "stream",
     "text": [
      "{'Creature of Habit': 'A nun turns into a monster', 'Crewel Fate': 'A haunted yarn shop'}\n"
     ]
    }
   ],
   "source": [
    "titles=['Creature of Habit', 'Crewel Fate']\n",
    "plots=['A nun turns into a monster', 'A haunted yarn shop']\n",
    "output=dict(zip(titles,plots))\n",
    "print(output)"
   ]
  }
 ],
 "metadata": {
  "kernelspec": {
   "display_name": "Python 3 (ipykernel)",
   "language": "python",
   "name": "python3"
  },
  "language_info": {
   "codemirror_mode": {
    "name": "ipython",
    "version": 3
   },
   "file_extension": ".py",
   "mimetype": "text/x-python",
   "name": "python",
   "nbconvert_exporter": "python",
   "pygments_lexer": "ipython3",
   "version": "3.9.7"
  }
 },
 "nbformat": 4,
 "nbformat_minor": 5
}
