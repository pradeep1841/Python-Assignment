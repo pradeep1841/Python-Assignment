{
 "cells": [
  {
   "cell_type": "markdown",
   "id": "f64affe6",
   "metadata": {},
   "source": [
    "# Python assignment-20"
   ]
  },
  {
   "cell_type": "markdown",
   "id": "400fb359",
   "metadata": {},
   "source": [
    "### 1. Add the current date to the text file today.txt as a string."
   ]
  },
  {
   "cell_type": "code",
   "execution_count": 2,
   "id": "e12b8984",
   "metadata": {},
   "outputs": [
    {
     "name": "stdout",
     "output_type": "stream",
     "text": [
      "04-09-2023\n"
     ]
    }
   ],
   "source": [
    "import datetime\n",
    "file = open(\"today.txt\",'w')\n",
    "file.write(datetime.datetime.now().strftime(\"%d-%m-%Y\"))\n",
    "file.close()\n",
    "file = open(\"today.txt\",'r')\n",
    "print(file.read())\n",
    "file.close()"
   ]
  },
  {
   "cell_type": "markdown",
   "id": "ccff1430",
   "metadata": {},
   "source": [
    "### 2. Read the text file today.txt into the string today_string."
   ]
  },
  {
   "cell_type": "code",
   "execution_count": 4,
   "id": "0fa3e1e5",
   "metadata": {},
   "outputs": [
    {
     "name": "stdout",
     "output_type": "stream",
     "text": [
      "04-09-2023\n"
     ]
    }
   ],
   "source": [
    "file = open('today.txt','r')\n",
    "today_string = file.read()\n",
    "print(today_string)"
   ]
  },
  {
   "cell_type": "markdown",
   "id": "8879069b",
   "metadata": {},
   "source": [
    "### 3. Parse the date from today_string."
   ]
  },
  {
   "cell_type": "code",
   "execution_count": 5,
   "id": "f7df2a51",
   "metadata": {},
   "outputs": [
    {
     "name": "stdout",
     "output_type": "stream",
     "text": [
      "2023-09-04 00:00:00\n"
     ]
    }
   ],
   "source": [
    "from datetime import datetime\n",
    "parsed_data = datetime.strptime(today_string,'%d-%m-%Y')\n",
    "print(parsed_data)"
   ]
  },
  {
   "cell_type": "markdown",
   "id": "009ecc4b",
   "metadata": {},
   "source": [
    "### 4. List the files in your current directory"
   ]
  },
  {
   "cell_type": "code",
   "execution_count": 6,
   "id": "cad6a614",
   "metadata": {},
   "outputs": [
    {
     "name": "stdout",
     "output_type": "stream",
     "text": [
      "['application_log.txt', 'Assignment-2.ipynb', 'Assignment-3.ipynb', 'Assignment-4.ipynb', 'Assignment-5.ipynb', 'Assignment-6.ipynb', 'assignment-7.ipynb', 'assignment-8.ipynb', 'assignment-9.ipynb', 'books.csv', 'books.db', 'Pic.jpeg', 'pic2.jpeg', 'Python assignment-10.ipynb', 'python assignment-11.ipynb', 'python assignment-12.ipynb', 'python assignment-13.ipynb', 'python assignment-14.ipynb', 'Python assignment-15.ipynb', 'Python assignment-16.ipynb', 'Python assignment-17.ipynb', 'Python assignment-18.ipynb', 'Python assignment-19.ipynb', 'Python assignment-20.ipynb', 'Python assignment-21.ipynb', 'Python assignment-9.ipynb', 'Python Programming assignment-2.ipynb', 'Python Programming assignment-3.ipynb', 'Python Programming assignment-4.ipynb', 'Python Programming assignment-5.ipynb', 'Python programming assignment-6.ipynb', 'Python Programming assignment-7.ipynb', 'Python Programming assignment-8.ipynb', 'Python Programming assignment-9.ipynb', 'test.txt', 'today.txt', 'university_records.csv']\n",
      "['application_log.txt', 'Assignment-2.ipynb', 'Assignment-3.ipynb', 'Assignment-4.ipynb', 'Assignment-5.ipynb', 'Assignment-6.ipynb', 'assignment-7.ipynb', 'assignment-8.ipynb', 'assignment-9.ipynb', 'books.csv', 'books.db', 'Pic.jpeg', 'pic2.jpeg', 'Python assignment-10.ipynb', 'python assignment-11.ipynb', 'python assignment-12.ipynb', 'python assignment-13.ipynb', 'python assignment-14.ipynb', 'Python assignment-15.ipynb', 'Python assignment-16.ipynb', 'Python assignment-17.ipynb', 'Python assignment-18.ipynb', 'Python assignment-19.ipynb', 'Python assignment-20.ipynb', 'Python assignment-21.ipynb', 'Python assignment-9.ipynb', 'Python Programming assignment-2.ipynb', 'Python Programming assignment-3.ipynb', 'Python Programming assignment-4.ipynb', 'Python Programming assignment-5.ipynb', 'Python programming assignment-6.ipynb', 'Python Programming assignment-7.ipynb', 'Python Programming assignment-8.ipynb', 'Python Programming assignment-9.ipynb', 'test.txt', 'today.txt', 'university_records.csv']\n",
      "['application_log.txt', 'Assignment-2.ipynb', 'Assignment-3.ipynb', 'Assignment-4.ipynb', 'Assignment-5.ipynb', 'Assignment-6.ipynb', 'assignment-7.ipynb', 'assignment-8.ipynb', 'assignment-9.ipynb', 'books.csv', 'books.db', 'Pic.jpeg', 'pic2.jpeg', 'Python assignment-10.ipynb', 'python assignment-11.ipynb', 'python assignment-12.ipynb', 'python assignment-13.ipynb', 'python assignment-14.ipynb', 'Python assignment-15.ipynb', 'Python assignment-16.ipynb', 'Python assignment-17.ipynb', 'Python assignment-18.ipynb', 'Python assignment-19.ipynb', 'Python assignment-20.ipynb', 'Python assignment-21.ipynb', 'Python assignment-9.ipynb', 'Python Programming assignment-2.ipynb', 'Python Programming assignment-3.ipynb', 'Python Programming assignment-4.ipynb', 'Python Programming assignment-5.ipynb', 'Python programming assignment-6.ipynb', 'Python Programming assignment-7.ipynb', 'Python Programming assignment-8.ipynb', 'Python Programming assignment-9.ipynb', 'test.txt', 'today.txt', 'university_records.csv']\n",
      "['application_log.txt', 'Assignment-2.ipynb', 'Assignment-3.ipynb', 'Assignment-4.ipynb', 'Assignment-5.ipynb', 'Assignment-6.ipynb', 'assignment-7.ipynb', 'assignment-8.ipynb', 'assignment-9.ipynb', 'books.csv', 'books.db', 'Pic.jpeg', 'pic2.jpeg', 'Python assignment-10.ipynb', 'python assignment-11.ipynb', 'python assignment-12.ipynb', 'python assignment-13.ipynb', 'python assignment-14.ipynb', 'Python assignment-15.ipynb', 'Python assignment-16.ipynb', 'Python assignment-17.ipynb', 'Python assignment-18.ipynb', 'Python assignment-19.ipynb', 'Python assignment-20.ipynb', 'Python assignment-21.ipynb', 'Python assignment-9.ipynb', 'Python Programming assignment-2.ipynb', 'Python Programming assignment-3.ipynb', 'Python Programming assignment-4.ipynb', 'Python Programming assignment-5.ipynb', 'Python programming assignment-6.ipynb', 'Python Programming assignment-7.ipynb', 'Python Programming assignment-8.ipynb', 'Python Programming assignment-9.ipynb', 'test.txt', 'today.txt', 'university_records.csv']\n",
      "['application_log.txt', 'Assignment-2.ipynb', 'Assignment-3.ipynb', 'Assignment-4.ipynb', 'Assignment-5.ipynb', 'Assignment-6.ipynb', 'assignment-7.ipynb', 'assignment-8.ipynb', 'assignment-9.ipynb', 'books.csv', 'books.db', 'Pic.jpeg', 'pic2.jpeg', 'Python assignment-10.ipynb', 'python assignment-11.ipynb', 'python assignment-12.ipynb', 'python assignment-13.ipynb', 'python assignment-14.ipynb', 'Python assignment-15.ipynb', 'Python assignment-16.ipynb', 'Python assignment-17.ipynb', 'Python assignment-18.ipynb', 'Python assignment-19.ipynb', 'Python assignment-20.ipynb', 'Python assignment-21.ipynb', 'Python assignment-9.ipynb', 'Python Programming assignment-2.ipynb', 'Python Programming assignment-3.ipynb', 'Python Programming assignment-4.ipynb', 'Python Programming assignment-5.ipynb', 'Python programming assignment-6.ipynb', 'Python Programming assignment-7.ipynb', 'Python Programming assignment-8.ipynb', 'Python Programming assignment-9.ipynb', 'test.txt', 'today.txt', 'university_records.csv']\n",
      "['application_log.txt', 'Assignment-2.ipynb', 'Assignment-3.ipynb', 'Assignment-4.ipynb', 'Assignment-5.ipynb', 'Assignment-6.ipynb', 'assignment-7.ipynb', 'assignment-8.ipynb', 'assignment-9.ipynb', 'books.csv', 'books.db', 'Pic.jpeg', 'pic2.jpeg', 'Python assignment-10.ipynb', 'python assignment-11.ipynb', 'python assignment-12.ipynb', 'python assignment-13.ipynb', 'python assignment-14.ipynb', 'Python assignment-15.ipynb', 'Python assignment-16.ipynb', 'Python assignment-17.ipynb', 'Python assignment-18.ipynb', 'Python assignment-19.ipynb', 'Python assignment-20.ipynb', 'Python assignment-21.ipynb', 'Python assignment-9.ipynb', 'Python Programming assignment-2.ipynb', 'Python Programming assignment-3.ipynb', 'Python Programming assignment-4.ipynb', 'Python Programming assignment-5.ipynb', 'Python programming assignment-6.ipynb', 'Python Programming assignment-7.ipynb', 'Python Programming assignment-8.ipynb', 'Python Programming assignment-9.ipynb', 'test.txt', 'today.txt', 'university_records.csv']\n",
      "['application_log.txt', 'Assignment-2.ipynb', 'Assignment-3.ipynb', 'Assignment-4.ipynb', 'Assignment-5.ipynb', 'Assignment-6.ipynb', 'assignment-7.ipynb', 'assignment-8.ipynb', 'assignment-9.ipynb', 'books.csv', 'books.db', 'Pic.jpeg', 'pic2.jpeg', 'Python assignment-10.ipynb', 'python assignment-11.ipynb', 'python assignment-12.ipynb', 'python assignment-13.ipynb', 'python assignment-14.ipynb', 'Python assignment-15.ipynb', 'Python assignment-16.ipynb', 'Python assignment-17.ipynb', 'Python assignment-18.ipynb', 'Python assignment-19.ipynb', 'Python assignment-20.ipynb', 'Python assignment-21.ipynb', 'Python assignment-9.ipynb', 'Python Programming assignment-2.ipynb', 'Python Programming assignment-3.ipynb', 'Python Programming assignment-4.ipynb', 'Python Programming assignment-5.ipynb', 'Python programming assignment-6.ipynb', 'Python Programming assignment-7.ipynb', 'Python Programming assignment-8.ipynb', 'Python Programming assignment-9.ipynb', 'test.txt', 'today.txt', 'university_records.csv']\n",
      "['application_log.txt', 'Assignment-2.ipynb', 'Assignment-3.ipynb', 'Assignment-4.ipynb', 'Assignment-5.ipynb', 'Assignment-6.ipynb', 'assignment-7.ipynb', 'assignment-8.ipynb', 'assignment-9.ipynb', 'books.csv', 'books.db', 'Pic.jpeg', 'pic2.jpeg', 'Python assignment-10.ipynb', 'python assignment-11.ipynb', 'python assignment-12.ipynb', 'python assignment-13.ipynb', 'python assignment-14.ipynb', 'Python assignment-15.ipynb', 'Python assignment-16.ipynb', 'Python assignment-17.ipynb', 'Python assignment-18.ipynb', 'Python assignment-19.ipynb', 'Python assignment-20.ipynb', 'Python assignment-21.ipynb', 'Python assignment-9.ipynb', 'Python Programming assignment-2.ipynb', 'Python Programming assignment-3.ipynb', 'Python Programming assignment-4.ipynb', 'Python Programming assignment-5.ipynb', 'Python programming assignment-6.ipynb', 'Python Programming assignment-7.ipynb', 'Python Programming assignment-8.ipynb', 'Python Programming assignment-9.ipynb', 'test.txt', 'today.txt', 'university_records.csv']\n",
      "['application_log.txt', 'Assignment-2.ipynb', 'Assignment-3.ipynb', 'Assignment-4.ipynb', 'Assignment-5.ipynb', 'Assignment-6.ipynb', 'assignment-7.ipynb', 'assignment-8.ipynb', 'assignment-9.ipynb', 'books.csv', 'books.db', 'Pic.jpeg', 'pic2.jpeg', 'Python assignment-10.ipynb', 'python assignment-11.ipynb', 'python assignment-12.ipynb', 'python assignment-13.ipynb', 'python assignment-14.ipynb', 'Python assignment-15.ipynb', 'Python assignment-16.ipynb', 'Python assignment-17.ipynb', 'Python assignment-18.ipynb', 'Python assignment-19.ipynb', 'Python assignment-20.ipynb', 'Python assignment-21.ipynb', 'Python assignment-9.ipynb', 'Python Programming assignment-2.ipynb', 'Python Programming assignment-3.ipynb', 'Python Programming assignment-4.ipynb', 'Python Programming assignment-5.ipynb', 'Python programming assignment-6.ipynb', 'Python Programming assignment-7.ipynb', 'Python Programming assignment-8.ipynb', 'Python Programming assignment-9.ipynb', 'test.txt', 'today.txt', 'university_records.csv']\n",
      "['application_log.txt', 'Assignment-2.ipynb', 'Assignment-3.ipynb', 'Assignment-4.ipynb', 'Assignment-5.ipynb', 'Assignment-6.ipynb', 'assignment-7.ipynb', 'assignment-8.ipynb', 'assignment-9.ipynb', 'books.csv', 'books.db', 'Pic.jpeg', 'pic2.jpeg', 'Python assignment-10.ipynb', 'python assignment-11.ipynb', 'python assignment-12.ipynb', 'python assignment-13.ipynb', 'python assignment-14.ipynb', 'Python assignment-15.ipynb', 'Python assignment-16.ipynb', 'Python assignment-17.ipynb', 'Python assignment-18.ipynb', 'Python assignment-19.ipynb', 'Python assignment-20.ipynb', 'Python assignment-21.ipynb', 'Python assignment-9.ipynb', 'Python Programming assignment-2.ipynb', 'Python Programming assignment-3.ipynb', 'Python Programming assignment-4.ipynb', 'Python Programming assignment-5.ipynb', 'Python programming assignment-6.ipynb', 'Python Programming assignment-7.ipynb', 'Python Programming assignment-8.ipynb', 'Python Programming assignment-9.ipynb', 'test.txt', 'today.txt', 'university_records.csv']\n",
      "['application_log.txt', 'Assignment-2.ipynb', 'Assignment-3.ipynb', 'Assignment-4.ipynb', 'Assignment-5.ipynb', 'Assignment-6.ipynb', 'assignment-7.ipynb', 'assignment-8.ipynb', 'assignment-9.ipynb', 'books.csv', 'books.db', 'Pic.jpeg', 'pic2.jpeg', 'Python assignment-10.ipynb', 'python assignment-11.ipynb', 'python assignment-12.ipynb', 'python assignment-13.ipynb', 'python assignment-14.ipynb', 'Python assignment-15.ipynb', 'Python assignment-16.ipynb', 'Python assignment-17.ipynb', 'Python assignment-18.ipynb', 'Python assignment-19.ipynb', 'Python assignment-20.ipynb', 'Python assignment-21.ipynb', 'Python assignment-9.ipynb', 'Python Programming assignment-2.ipynb', 'Python Programming assignment-3.ipynb', 'Python Programming assignment-4.ipynb', 'Python Programming assignment-5.ipynb', 'Python programming assignment-6.ipynb', 'Python Programming assignment-7.ipynb', 'Python Programming assignment-8.ipynb', 'Python Programming assignment-9.ipynb', 'test.txt', 'today.txt', 'university_records.csv']\n",
      "['application_log.txt', 'Assignment-2.ipynb', 'Assignment-3.ipynb', 'Assignment-4.ipynb', 'Assignment-5.ipynb', 'Assignment-6.ipynb', 'assignment-7.ipynb', 'assignment-8.ipynb', 'assignment-9.ipynb', 'books.csv', 'books.db', 'Pic.jpeg', 'pic2.jpeg', 'Python assignment-10.ipynb', 'python assignment-11.ipynb', 'python assignment-12.ipynb', 'python assignment-13.ipynb', 'python assignment-14.ipynb', 'Python assignment-15.ipynb', 'Python assignment-16.ipynb', 'Python assignment-17.ipynb', 'Python assignment-18.ipynb', 'Python assignment-19.ipynb', 'Python assignment-20.ipynb', 'Python assignment-21.ipynb', 'Python assignment-9.ipynb', 'Python Programming assignment-2.ipynb', 'Python Programming assignment-3.ipynb', 'Python Programming assignment-4.ipynb', 'Python Programming assignment-5.ipynb', 'Python programming assignment-6.ipynb', 'Python Programming assignment-7.ipynb', 'Python Programming assignment-8.ipynb', 'Python Programming assignment-9.ipynb', 'test.txt', 'today.txt', 'university_records.csv']\n",
      "['application_log.txt', 'Assignment-2.ipynb', 'Assignment-3.ipynb', 'Assignment-4.ipynb', 'Assignment-5.ipynb', 'Assignment-6.ipynb', 'assignment-7.ipynb', 'assignment-8.ipynb', 'assignment-9.ipynb', 'books.csv', 'books.db', 'Pic.jpeg', 'pic2.jpeg', 'Python assignment-10.ipynb', 'python assignment-11.ipynb', 'python assignment-12.ipynb', 'python assignment-13.ipynb', 'python assignment-14.ipynb', 'Python assignment-15.ipynb', 'Python assignment-16.ipynb', 'Python assignment-17.ipynb', 'Python assignment-18.ipynb', 'Python assignment-19.ipynb', 'Python assignment-20.ipynb', 'Python assignment-21.ipynb', 'Python assignment-9.ipynb', 'Python Programming assignment-2.ipynb', 'Python Programming assignment-3.ipynb', 'Python Programming assignment-4.ipynb', 'Python Programming assignment-5.ipynb', 'Python programming assignment-6.ipynb', 'Python Programming assignment-7.ipynb', 'Python Programming assignment-8.ipynb', 'Python Programming assignment-9.ipynb', 'test.txt', 'today.txt', 'university_records.csv']\n",
      "['application_log.txt', 'Assignment-2.ipynb', 'Assignment-3.ipynb', 'Assignment-4.ipynb', 'Assignment-5.ipynb', 'Assignment-6.ipynb', 'assignment-7.ipynb', 'assignment-8.ipynb', 'assignment-9.ipynb', 'books.csv', 'books.db', 'Pic.jpeg', 'pic2.jpeg', 'Python assignment-10.ipynb', 'python assignment-11.ipynb', 'python assignment-12.ipynb', 'python assignment-13.ipynb', 'python assignment-14.ipynb', 'Python assignment-15.ipynb', 'Python assignment-16.ipynb', 'Python assignment-17.ipynb', 'Python assignment-18.ipynb', 'Python assignment-19.ipynb', 'Python assignment-20.ipynb', 'Python assignment-21.ipynb', 'Python assignment-9.ipynb', 'Python Programming assignment-2.ipynb', 'Python Programming assignment-3.ipynb', 'Python Programming assignment-4.ipynb', 'Python Programming assignment-5.ipynb', 'Python programming assignment-6.ipynb', 'Python Programming assignment-7.ipynb', 'Python Programming assignment-8.ipynb', 'Python Programming assignment-9.ipynb', 'test.txt', 'today.txt', 'university_records.csv']\n",
      "['application_log.txt', 'Assignment-2.ipynb', 'Assignment-3.ipynb', 'Assignment-4.ipynb', 'Assignment-5.ipynb', 'Assignment-6.ipynb', 'assignment-7.ipynb', 'assignment-8.ipynb', 'assignment-9.ipynb', 'books.csv', 'books.db', 'Pic.jpeg', 'pic2.jpeg', 'Python assignment-10.ipynb', 'python assignment-11.ipynb', 'python assignment-12.ipynb', 'python assignment-13.ipynb', 'python assignment-14.ipynb', 'Python assignment-15.ipynb', 'Python assignment-16.ipynb', 'Python assignment-17.ipynb', 'Python assignment-18.ipynb', 'Python assignment-19.ipynb', 'Python assignment-20.ipynb', 'Python assignment-21.ipynb', 'Python assignment-9.ipynb', 'Python Programming assignment-2.ipynb', 'Python Programming assignment-3.ipynb', 'Python Programming assignment-4.ipynb', 'Python Programming assignment-5.ipynb', 'Python programming assignment-6.ipynb', 'Python Programming assignment-7.ipynb', 'Python Programming assignment-8.ipynb', 'Python Programming assignment-9.ipynb', 'test.txt', 'today.txt', 'university_records.csv']\n",
      "['application_log.txt', 'Assignment-2.ipynb', 'Assignment-3.ipynb', 'Assignment-4.ipynb', 'Assignment-5.ipynb', 'Assignment-6.ipynb', 'assignment-7.ipynb', 'assignment-8.ipynb', 'assignment-9.ipynb', 'books.csv', 'books.db', 'Pic.jpeg', 'pic2.jpeg', 'Python assignment-10.ipynb', 'python assignment-11.ipynb', 'python assignment-12.ipynb', 'python assignment-13.ipynb', 'python assignment-14.ipynb', 'Python assignment-15.ipynb', 'Python assignment-16.ipynb', 'Python assignment-17.ipynb', 'Python assignment-18.ipynb', 'Python assignment-19.ipynb', 'Python assignment-20.ipynb', 'Python assignment-21.ipynb', 'Python assignment-9.ipynb', 'Python Programming assignment-2.ipynb', 'Python Programming assignment-3.ipynb', 'Python Programming assignment-4.ipynb', 'Python Programming assignment-5.ipynb', 'Python programming assignment-6.ipynb', 'Python Programming assignment-7.ipynb', 'Python Programming assignment-8.ipynb', 'Python Programming assignment-9.ipynb', 'test.txt', 'today.txt', 'university_records.csv']\n",
      "['application_log.txt', 'Assignment-2.ipynb', 'Assignment-3.ipynb', 'Assignment-4.ipynb', 'Assignment-5.ipynb', 'Assignment-6.ipynb', 'assignment-7.ipynb', 'assignment-8.ipynb', 'assignment-9.ipynb', 'books.csv', 'books.db', 'Pic.jpeg', 'pic2.jpeg', 'Python assignment-10.ipynb', 'python assignment-11.ipynb', 'python assignment-12.ipynb', 'python assignment-13.ipynb', 'python assignment-14.ipynb', 'Python assignment-15.ipynb', 'Python assignment-16.ipynb', 'Python assignment-17.ipynb', 'Python assignment-18.ipynb', 'Python assignment-19.ipynb', 'Python assignment-20.ipynb', 'Python assignment-21.ipynb', 'Python assignment-9.ipynb', 'Python Programming assignment-2.ipynb', 'Python Programming assignment-3.ipynb', 'Python Programming assignment-4.ipynb', 'Python Programming assignment-5.ipynb', 'Python programming assignment-6.ipynb', 'Python Programming assignment-7.ipynb', 'Python Programming assignment-8.ipynb', 'Python Programming assignment-9.ipynb', 'test.txt', 'today.txt', 'university_records.csv']\n",
      "['application_log.txt', 'Assignment-2.ipynb', 'Assignment-3.ipynb', 'Assignment-4.ipynb', 'Assignment-5.ipynb', 'Assignment-6.ipynb', 'assignment-7.ipynb', 'assignment-8.ipynb', 'assignment-9.ipynb', 'books.csv', 'books.db', 'Pic.jpeg', 'pic2.jpeg', 'Python assignment-10.ipynb', 'python assignment-11.ipynb', 'python assignment-12.ipynb', 'python assignment-13.ipynb', 'python assignment-14.ipynb', 'Python assignment-15.ipynb', 'Python assignment-16.ipynb', 'Python assignment-17.ipynb', 'Python assignment-18.ipynb', 'Python assignment-19.ipynb', 'Python assignment-20.ipynb', 'Python assignment-21.ipynb', 'Python assignment-9.ipynb', 'Python Programming assignment-2.ipynb', 'Python Programming assignment-3.ipynb', 'Python Programming assignment-4.ipynb', 'Python Programming assignment-5.ipynb', 'Python programming assignment-6.ipynb', 'Python Programming assignment-7.ipynb', 'Python Programming assignment-8.ipynb', 'Python Programming assignment-9.ipynb', 'test.txt', 'today.txt', 'university_records.csv']\n",
      "['application_log.txt', 'Assignment-2.ipynb', 'Assignment-3.ipynb', 'Assignment-4.ipynb', 'Assignment-5.ipynb', 'Assignment-6.ipynb', 'assignment-7.ipynb', 'assignment-8.ipynb', 'assignment-9.ipynb', 'books.csv', 'books.db', 'Pic.jpeg', 'pic2.jpeg', 'Python assignment-10.ipynb', 'python assignment-11.ipynb', 'python assignment-12.ipynb', 'python assignment-13.ipynb', 'python assignment-14.ipynb', 'Python assignment-15.ipynb', 'Python assignment-16.ipynb', 'Python assignment-17.ipynb', 'Python assignment-18.ipynb', 'Python assignment-19.ipynb', 'Python assignment-20.ipynb', 'Python assignment-21.ipynb', 'Python assignment-9.ipynb', 'Python Programming assignment-2.ipynb', 'Python Programming assignment-3.ipynb', 'Python Programming assignment-4.ipynb', 'Python Programming assignment-5.ipynb', 'Python programming assignment-6.ipynb', 'Python Programming assignment-7.ipynb', 'Python Programming assignment-8.ipynb', 'Python Programming assignment-9.ipynb', 'test.txt', 'today.txt', 'university_records.csv']\n",
      "['application_log.txt', 'Assignment-2.ipynb', 'Assignment-3.ipynb', 'Assignment-4.ipynb', 'Assignment-5.ipynb', 'Assignment-6.ipynb', 'assignment-7.ipynb', 'assignment-8.ipynb', 'assignment-9.ipynb', 'books.csv', 'books.db', 'Pic.jpeg', 'pic2.jpeg', 'Python assignment-10.ipynb', 'python assignment-11.ipynb', 'python assignment-12.ipynb', 'python assignment-13.ipynb', 'python assignment-14.ipynb', 'Python assignment-15.ipynb', 'Python assignment-16.ipynb', 'Python assignment-17.ipynb', 'Python assignment-18.ipynb', 'Python assignment-19.ipynb', 'Python assignment-20.ipynb', 'Python assignment-21.ipynb', 'Python assignment-9.ipynb', 'Python Programming assignment-2.ipynb', 'Python Programming assignment-3.ipynb', 'Python Programming assignment-4.ipynb', 'Python Programming assignment-5.ipynb', 'Python programming assignment-6.ipynb', 'Python Programming assignment-7.ipynb', 'Python Programming assignment-8.ipynb', 'Python Programming assignment-9.ipynb', 'test.txt', 'today.txt', 'university_records.csv']\n",
      "['application_log.txt', 'Assignment-2.ipynb', 'Assignment-3.ipynb', 'Assignment-4.ipynb', 'Assignment-5.ipynb', 'Assignment-6.ipynb', 'assignment-7.ipynb', 'assignment-8.ipynb', 'assignment-9.ipynb', 'books.csv', 'books.db', 'Pic.jpeg', 'pic2.jpeg', 'Python assignment-10.ipynb', 'python assignment-11.ipynb', 'python assignment-12.ipynb', 'python assignment-13.ipynb', 'python assignment-14.ipynb', 'Python assignment-15.ipynb', 'Python assignment-16.ipynb', 'Python assignment-17.ipynb', 'Python assignment-18.ipynb', 'Python assignment-19.ipynb', 'Python assignment-20.ipynb', 'Python assignment-21.ipynb', 'Python assignment-9.ipynb', 'Python Programming assignment-2.ipynb', 'Python Programming assignment-3.ipynb', 'Python Programming assignment-4.ipynb', 'Python Programming assignment-5.ipynb', 'Python programming assignment-6.ipynb', 'Python Programming assignment-7.ipynb', 'Python Programming assignment-8.ipynb', 'Python Programming assignment-9.ipynb', 'test.txt', 'today.txt', 'university_records.csv']\n",
      "['application_log.txt', 'Assignment-2.ipynb', 'Assignment-3.ipynb', 'Assignment-4.ipynb', 'Assignment-5.ipynb', 'Assignment-6.ipynb', 'assignment-7.ipynb', 'assignment-8.ipynb', 'assignment-9.ipynb', 'books.csv', 'books.db', 'Pic.jpeg', 'pic2.jpeg', 'Python assignment-10.ipynb', 'python assignment-11.ipynb', 'python assignment-12.ipynb', 'python assignment-13.ipynb', 'python assignment-14.ipynb', 'Python assignment-15.ipynb', 'Python assignment-16.ipynb', 'Python assignment-17.ipynb', 'Python assignment-18.ipynb', 'Python assignment-19.ipynb', 'Python assignment-20.ipynb', 'Python assignment-21.ipynb', 'Python assignment-9.ipynb', 'Python Programming assignment-2.ipynb', 'Python Programming assignment-3.ipynb', 'Python Programming assignment-4.ipynb', 'Python Programming assignment-5.ipynb', 'Python programming assignment-6.ipynb', 'Python Programming assignment-7.ipynb', 'Python Programming assignment-8.ipynb', 'Python Programming assignment-9.ipynb', 'test.txt', 'today.txt', 'university_records.csv']\n",
      "['application_log.txt', 'Assignment-2.ipynb', 'Assignment-3.ipynb', 'Assignment-4.ipynb', 'Assignment-5.ipynb', 'Assignment-6.ipynb', 'assignment-7.ipynb', 'assignment-8.ipynb', 'assignment-9.ipynb', 'books.csv', 'books.db', 'Pic.jpeg', 'pic2.jpeg', 'Python assignment-10.ipynb', 'python assignment-11.ipynb', 'python assignment-12.ipynb', 'python assignment-13.ipynb', 'python assignment-14.ipynb', 'Python assignment-15.ipynb', 'Python assignment-16.ipynb', 'Python assignment-17.ipynb', 'Python assignment-18.ipynb', 'Python assignment-19.ipynb', 'Python assignment-20.ipynb', 'Python assignment-21.ipynb', 'Python assignment-9.ipynb', 'Python Programming assignment-2.ipynb', 'Python Programming assignment-3.ipynb', 'Python Programming assignment-4.ipynb', 'Python Programming assignment-5.ipynb', 'Python programming assignment-6.ipynb', 'Python Programming assignment-7.ipynb', 'Python Programming assignment-8.ipynb', 'Python Programming assignment-9.ipynb', 'test.txt', 'today.txt', 'university_records.csv']\n",
      "['application_log.txt', 'Assignment-2.ipynb', 'Assignment-3.ipynb', 'Assignment-4.ipynb', 'Assignment-5.ipynb', 'Assignment-6.ipynb', 'assignment-7.ipynb', 'assignment-8.ipynb', 'assignment-9.ipynb', 'books.csv', 'books.db', 'Pic.jpeg', 'pic2.jpeg', 'Python assignment-10.ipynb', 'python assignment-11.ipynb', 'python assignment-12.ipynb', 'python assignment-13.ipynb', 'python assignment-14.ipynb', 'Python assignment-15.ipynb', 'Python assignment-16.ipynb', 'Python assignment-17.ipynb', 'Python assignment-18.ipynb', 'Python assignment-19.ipynb', 'Python assignment-20.ipynb', 'Python assignment-21.ipynb', 'Python assignment-9.ipynb', 'Python Programming assignment-2.ipynb', 'Python Programming assignment-3.ipynb', 'Python Programming assignment-4.ipynb', 'Python Programming assignment-5.ipynb', 'Python programming assignment-6.ipynb', 'Python Programming assignment-7.ipynb', 'Python Programming assignment-8.ipynb', 'Python Programming assignment-9.ipynb', 'test.txt', 'today.txt', 'university_records.csv']\n",
      "['application_log.txt', 'Assignment-2.ipynb', 'Assignment-3.ipynb', 'Assignment-4.ipynb', 'Assignment-5.ipynb', 'Assignment-6.ipynb', 'assignment-7.ipynb', 'assignment-8.ipynb', 'assignment-9.ipynb', 'books.csv', 'books.db', 'Pic.jpeg', 'pic2.jpeg', 'Python assignment-10.ipynb', 'python assignment-11.ipynb', 'python assignment-12.ipynb', 'python assignment-13.ipynb', 'python assignment-14.ipynb', 'Python assignment-15.ipynb', 'Python assignment-16.ipynb', 'Python assignment-17.ipynb', 'Python assignment-18.ipynb', 'Python assignment-19.ipynb', 'Python assignment-20.ipynb', 'Python assignment-21.ipynb', 'Python assignment-9.ipynb', 'Python Programming assignment-2.ipynb', 'Python Programming assignment-3.ipynb', 'Python Programming assignment-4.ipynb', 'Python Programming assignment-5.ipynb', 'Python programming assignment-6.ipynb', 'Python Programming assignment-7.ipynb', 'Python Programming assignment-8.ipynb', 'Python Programming assignment-9.ipynb', 'test.txt', 'today.txt', 'university_records.csv']\n",
      "['application_log.txt', 'Assignment-2.ipynb', 'Assignment-3.ipynb', 'Assignment-4.ipynb', 'Assignment-5.ipynb', 'Assignment-6.ipynb', 'assignment-7.ipynb', 'assignment-8.ipynb', 'assignment-9.ipynb', 'books.csv', 'books.db', 'Pic.jpeg', 'pic2.jpeg', 'Python assignment-10.ipynb', 'python assignment-11.ipynb', 'python assignment-12.ipynb', 'python assignment-13.ipynb', 'python assignment-14.ipynb', 'Python assignment-15.ipynb', 'Python assignment-16.ipynb', 'Python assignment-17.ipynb', 'Python assignment-18.ipynb', 'Python assignment-19.ipynb', 'Python assignment-20.ipynb', 'Python assignment-21.ipynb', 'Python assignment-9.ipynb', 'Python Programming assignment-2.ipynb', 'Python Programming assignment-3.ipynb', 'Python Programming assignment-4.ipynb', 'Python Programming assignment-5.ipynb', 'Python programming assignment-6.ipynb', 'Python Programming assignment-7.ipynb', 'Python Programming assignment-8.ipynb', 'Python Programming assignment-9.ipynb', 'test.txt', 'today.txt', 'university_records.csv']\n",
      "['application_log.txt', 'Assignment-2.ipynb', 'Assignment-3.ipynb', 'Assignment-4.ipynb', 'Assignment-5.ipynb', 'Assignment-6.ipynb', 'assignment-7.ipynb', 'assignment-8.ipynb', 'assignment-9.ipynb', 'books.csv', 'books.db', 'Pic.jpeg', 'pic2.jpeg', 'Python assignment-10.ipynb', 'python assignment-11.ipynb', 'python assignment-12.ipynb', 'python assignment-13.ipynb', 'python assignment-14.ipynb', 'Python assignment-15.ipynb', 'Python assignment-16.ipynb', 'Python assignment-17.ipynb', 'Python assignment-18.ipynb', 'Python assignment-19.ipynb', 'Python assignment-20.ipynb', 'Python assignment-21.ipynb', 'Python assignment-9.ipynb', 'Python Programming assignment-2.ipynb', 'Python Programming assignment-3.ipynb', 'Python Programming assignment-4.ipynb', 'Python Programming assignment-5.ipynb', 'Python programming assignment-6.ipynb', 'Python Programming assignment-7.ipynb', 'Python Programming assignment-8.ipynb', 'Python Programming assignment-9.ipynb', 'test.txt', 'today.txt', 'university_records.csv']\n",
      "['application_log.txt', 'Assignment-2.ipynb', 'Assignment-3.ipynb', 'Assignment-4.ipynb', 'Assignment-5.ipynb', 'Assignment-6.ipynb', 'assignment-7.ipynb', 'assignment-8.ipynb', 'assignment-9.ipynb', 'books.csv', 'books.db', 'Pic.jpeg', 'pic2.jpeg', 'Python assignment-10.ipynb', 'python assignment-11.ipynb', 'python assignment-12.ipynb', 'python assignment-13.ipynb', 'python assignment-14.ipynb', 'Python assignment-15.ipynb', 'Python assignment-16.ipynb', 'Python assignment-17.ipynb', 'Python assignment-18.ipynb', 'Python assignment-19.ipynb', 'Python assignment-20.ipynb', 'Python assignment-21.ipynb', 'Python assignment-9.ipynb', 'Python Programming assignment-2.ipynb', 'Python Programming assignment-3.ipynb', 'Python Programming assignment-4.ipynb', 'Python Programming assignment-5.ipynb', 'Python programming assignment-6.ipynb', 'Python Programming assignment-7.ipynb', 'Python Programming assignment-8.ipynb', 'Python Programming assignment-9.ipynb', 'test.txt', 'today.txt', 'university_records.csv']\n",
      "['application_log.txt', 'Assignment-2.ipynb', 'Assignment-3.ipynb', 'Assignment-4.ipynb', 'Assignment-5.ipynb', 'Assignment-6.ipynb', 'assignment-7.ipynb', 'assignment-8.ipynb', 'assignment-9.ipynb', 'books.csv', 'books.db', 'Pic.jpeg', 'pic2.jpeg', 'Python assignment-10.ipynb', 'python assignment-11.ipynb', 'python assignment-12.ipynb', 'python assignment-13.ipynb', 'python assignment-14.ipynb', 'Python assignment-15.ipynb', 'Python assignment-16.ipynb', 'Python assignment-17.ipynb', 'Python assignment-18.ipynb', 'Python assignment-19.ipynb', 'Python assignment-20.ipynb', 'Python assignment-21.ipynb', 'Python assignment-9.ipynb', 'Python Programming assignment-2.ipynb', 'Python Programming assignment-3.ipynb', 'Python Programming assignment-4.ipynb', 'Python Programming assignment-5.ipynb', 'Python programming assignment-6.ipynb', 'Python Programming assignment-7.ipynb', 'Python Programming assignment-8.ipynb', 'Python Programming assignment-9.ipynb', 'test.txt', 'today.txt', 'university_records.csv']\n",
      "['application_log.txt', 'Assignment-2.ipynb', 'Assignment-3.ipynb', 'Assignment-4.ipynb', 'Assignment-5.ipynb', 'Assignment-6.ipynb', 'assignment-7.ipynb', 'assignment-8.ipynb', 'assignment-9.ipynb', 'books.csv', 'books.db', 'Pic.jpeg', 'pic2.jpeg', 'Python assignment-10.ipynb', 'python assignment-11.ipynb', 'python assignment-12.ipynb', 'python assignment-13.ipynb', 'python assignment-14.ipynb', 'Python assignment-15.ipynb', 'Python assignment-16.ipynb', 'Python assignment-17.ipynb', 'Python assignment-18.ipynb', 'Python assignment-19.ipynb', 'Python assignment-20.ipynb', 'Python assignment-21.ipynb', 'Python assignment-9.ipynb', 'Python Programming assignment-2.ipynb', 'Python Programming assignment-3.ipynb', 'Python Programming assignment-4.ipynb', 'Python Programming assignment-5.ipynb', 'Python programming assignment-6.ipynb', 'Python Programming assignment-7.ipynb', 'Python Programming assignment-8.ipynb', 'Python Programming assignment-9.ipynb', 'test.txt', 'today.txt', 'university_records.csv']\n",
      "['application_log.txt', 'Assignment-2.ipynb', 'Assignment-3.ipynb', 'Assignment-4.ipynb', 'Assignment-5.ipynb', 'Assignment-6.ipynb', 'assignment-7.ipynb', 'assignment-8.ipynb', 'assignment-9.ipynb', 'books.csv', 'books.db', 'Pic.jpeg', 'pic2.jpeg', 'Python assignment-10.ipynb', 'python assignment-11.ipynb', 'python assignment-12.ipynb', 'python assignment-13.ipynb', 'python assignment-14.ipynb', 'Python assignment-15.ipynb', 'Python assignment-16.ipynb', 'Python assignment-17.ipynb', 'Python assignment-18.ipynb', 'Python assignment-19.ipynb', 'Python assignment-20.ipynb', 'Python assignment-21.ipynb', 'Python assignment-9.ipynb', 'Python Programming assignment-2.ipynb', 'Python Programming assignment-3.ipynb', 'Python Programming assignment-4.ipynb', 'Python Programming assignment-5.ipynb', 'Python programming assignment-6.ipynb', 'Python Programming assignment-7.ipynb', 'Python Programming assignment-8.ipynb', 'Python Programming assignment-9.ipynb', 'test.txt', 'today.txt', 'university_records.csv']\n",
      "['application_log.txt', 'Assignment-2.ipynb', 'Assignment-3.ipynb', 'Assignment-4.ipynb', 'Assignment-5.ipynb', 'Assignment-6.ipynb', 'assignment-7.ipynb', 'assignment-8.ipynb', 'assignment-9.ipynb', 'books.csv', 'books.db', 'Pic.jpeg', 'pic2.jpeg', 'Python assignment-10.ipynb', 'python assignment-11.ipynb', 'python assignment-12.ipynb', 'python assignment-13.ipynb', 'python assignment-14.ipynb', 'Python assignment-15.ipynb', 'Python assignment-16.ipynb', 'Python assignment-17.ipynb', 'Python assignment-18.ipynb', 'Python assignment-19.ipynb', 'Python assignment-20.ipynb', 'Python assignment-21.ipynb', 'Python assignment-9.ipynb', 'Python Programming assignment-2.ipynb', 'Python Programming assignment-3.ipynb', 'Python Programming assignment-4.ipynb', 'Python Programming assignment-5.ipynb', 'Python programming assignment-6.ipynb', 'Python Programming assignment-7.ipynb', 'Python Programming assignment-8.ipynb', 'Python Programming assignment-9.ipynb', 'test.txt', 'today.txt', 'university_records.csv']\n",
      "['application_log.txt', 'Assignment-2.ipynb', 'Assignment-3.ipynb', 'Assignment-4.ipynb', 'Assignment-5.ipynb', 'Assignment-6.ipynb', 'assignment-7.ipynb', 'assignment-8.ipynb', 'assignment-9.ipynb', 'books.csv', 'books.db', 'Pic.jpeg', 'pic2.jpeg', 'Python assignment-10.ipynb', 'python assignment-11.ipynb', 'python assignment-12.ipynb', 'python assignment-13.ipynb', 'python assignment-14.ipynb', 'Python assignment-15.ipynb', 'Python assignment-16.ipynb', 'Python assignment-17.ipynb', 'Python assignment-18.ipynb', 'Python assignment-19.ipynb', 'Python assignment-20.ipynb', 'Python assignment-21.ipynb', 'Python assignment-9.ipynb', 'Python Programming assignment-2.ipynb', 'Python Programming assignment-3.ipynb', 'Python Programming assignment-4.ipynb', 'Python Programming assignment-5.ipynb', 'Python programming assignment-6.ipynb', 'Python Programming assignment-7.ipynb', 'Python Programming assignment-8.ipynb', 'Python Programming assignment-9.ipynb', 'test.txt', 'today.txt', 'university_records.csv']\n",
      "['application_log.txt', 'Assignment-2.ipynb', 'Assignment-3.ipynb', 'Assignment-4.ipynb', 'Assignment-5.ipynb', 'Assignment-6.ipynb', 'assignment-7.ipynb', 'assignment-8.ipynb', 'assignment-9.ipynb', 'books.csv', 'books.db', 'Pic.jpeg', 'pic2.jpeg', 'Python assignment-10.ipynb', 'python assignment-11.ipynb', 'python assignment-12.ipynb', 'python assignment-13.ipynb', 'python assignment-14.ipynb', 'Python assignment-15.ipynb', 'Python assignment-16.ipynb', 'Python assignment-17.ipynb', 'Python assignment-18.ipynb', 'Python assignment-19.ipynb', 'Python assignment-20.ipynb', 'Python assignment-21.ipynb', 'Python assignment-9.ipynb', 'Python Programming assignment-2.ipynb', 'Python Programming assignment-3.ipynb', 'Python Programming assignment-4.ipynb', 'Python Programming assignment-5.ipynb', 'Python programming assignment-6.ipynb', 'Python Programming assignment-7.ipynb', 'Python Programming assignment-8.ipynb', 'Python Programming assignment-9.ipynb', 'test.txt', 'today.txt', 'university_records.csv']\n",
      "['application_log.txt', 'Assignment-2.ipynb', 'Assignment-3.ipynb', 'Assignment-4.ipynb', 'Assignment-5.ipynb', 'Assignment-6.ipynb', 'assignment-7.ipynb', 'assignment-8.ipynb', 'assignment-9.ipynb', 'books.csv', 'books.db', 'Pic.jpeg', 'pic2.jpeg', 'Python assignment-10.ipynb', 'python assignment-11.ipynb', 'python assignment-12.ipynb', 'python assignment-13.ipynb', 'python assignment-14.ipynb', 'Python assignment-15.ipynb', 'Python assignment-16.ipynb', 'Python assignment-17.ipynb', 'Python assignment-18.ipynb', 'Python assignment-19.ipynb', 'Python assignment-20.ipynb', 'Python assignment-21.ipynb', 'Python assignment-9.ipynb', 'Python Programming assignment-2.ipynb', 'Python Programming assignment-3.ipynb', 'Python Programming assignment-4.ipynb', 'Python Programming assignment-5.ipynb', 'Python programming assignment-6.ipynb', 'Python Programming assignment-7.ipynb', 'Python Programming assignment-8.ipynb', 'Python Programming assignment-9.ipynb', 'test.txt', 'today.txt', 'university_records.csv']\n",
      "['application_log.txt', 'Assignment-2.ipynb', 'Assignment-3.ipynb', 'Assignment-4.ipynb', 'Assignment-5.ipynb', 'Assignment-6.ipynb', 'assignment-7.ipynb', 'assignment-8.ipynb', 'assignment-9.ipynb', 'books.csv', 'books.db', 'Pic.jpeg', 'pic2.jpeg', 'Python assignment-10.ipynb', 'python assignment-11.ipynb', 'python assignment-12.ipynb', 'python assignment-13.ipynb', 'python assignment-14.ipynb', 'Python assignment-15.ipynb', 'Python assignment-16.ipynb', 'Python assignment-17.ipynb', 'Python assignment-18.ipynb', 'Python assignment-19.ipynb', 'Python assignment-20.ipynb', 'Python assignment-21.ipynb', 'Python assignment-9.ipynb', 'Python Programming assignment-2.ipynb', 'Python Programming assignment-3.ipynb', 'Python Programming assignment-4.ipynb', 'Python Programming assignment-5.ipynb', 'Python programming assignment-6.ipynb', 'Python Programming assignment-7.ipynb', 'Python Programming assignment-8.ipynb', 'Python Programming assignment-9.ipynb', 'test.txt', 'today.txt', 'university_records.csv']\n",
      "['application_log.txt', 'Assignment-2.ipynb', 'Assignment-3.ipynb', 'Assignment-4.ipynb', 'Assignment-5.ipynb', 'Assignment-6.ipynb', 'assignment-7.ipynb', 'assignment-8.ipynb', 'assignment-9.ipynb', 'books.csv', 'books.db', 'Pic.jpeg', 'pic2.jpeg', 'Python assignment-10.ipynb', 'python assignment-11.ipynb', 'python assignment-12.ipynb', 'python assignment-13.ipynb', 'python assignment-14.ipynb', 'Python assignment-15.ipynb', 'Python assignment-16.ipynb', 'Python assignment-17.ipynb', 'Python assignment-18.ipynb', 'Python assignment-19.ipynb', 'Python assignment-20.ipynb', 'Python assignment-21.ipynb', 'Python assignment-9.ipynb', 'Python Programming assignment-2.ipynb', 'Python Programming assignment-3.ipynb', 'Python Programming assignment-4.ipynb', 'Python Programming assignment-5.ipynb', 'Python programming assignment-6.ipynb', 'Python Programming assignment-7.ipynb', 'Python Programming assignment-8.ipynb', 'Python Programming assignment-9.ipynb', 'test.txt', 'today.txt', 'university_records.csv']\n",
      "['Assignment-2-checkpoint.ipynb', 'Assignment-3-checkpoint.ipynb', 'Assignment-4-checkpoint.ipynb', 'Assignment-5-checkpoint.ipynb', 'Assignment-6-checkpoint.ipynb', 'assignment-7-checkpoint.ipynb', 'assignment-8-checkpoint.ipynb', 'assignment-9-checkpoint.ipynb', 'Python assignment-10-checkpoint.ipynb', 'python assignment-11-checkpoint.ipynb', 'python assignment-12-checkpoint.ipynb', 'python assignment-13-checkpoint.ipynb', 'python assignment-14-checkpoint.ipynb', 'Python assignment-15-checkpoint.ipynb', 'Python assignment-16-checkpoint.ipynb', 'Python assignment-17-checkpoint.ipynb', 'Python assignment-18-checkpoint.ipynb', 'Python assignment-19-checkpoint.ipynb', 'Python assignment-20-checkpoint.ipynb', 'Python assignment-21-checkpoint.ipynb', 'Python assignment-9-checkpoint.ipynb', 'Python Programming assignment-2-checkpoint.ipynb', 'Python Programming assignment-3-checkpoint.ipynb', 'Python Programming assignment-4-checkpoint.ipynb', 'Python Programming assignment-5-checkpoint.ipynb', 'Python programming assignment-6-checkpoint.ipynb', 'Python Programming assignment-7-checkpoint.ipynb', 'Python Programming assignment-8-checkpoint.ipynb', 'Python Programming assignment-9-checkpoint.ipynb']\n",
      "['Assignment-2-checkpoint.ipynb', 'Assignment-3-checkpoint.ipynb', 'Assignment-4-checkpoint.ipynb', 'Assignment-5-checkpoint.ipynb', 'Assignment-6-checkpoint.ipynb', 'assignment-7-checkpoint.ipynb', 'assignment-8-checkpoint.ipynb', 'assignment-9-checkpoint.ipynb', 'Python assignment-10-checkpoint.ipynb', 'python assignment-11-checkpoint.ipynb', 'python assignment-12-checkpoint.ipynb', 'python assignment-13-checkpoint.ipynb', 'python assignment-14-checkpoint.ipynb', 'Python assignment-15-checkpoint.ipynb', 'Python assignment-16-checkpoint.ipynb', 'Python assignment-17-checkpoint.ipynb', 'Python assignment-18-checkpoint.ipynb', 'Python assignment-19-checkpoint.ipynb', 'Python assignment-20-checkpoint.ipynb', 'Python assignment-21-checkpoint.ipynb', 'Python assignment-9-checkpoint.ipynb', 'Python Programming assignment-2-checkpoint.ipynb', 'Python Programming assignment-3-checkpoint.ipynb', 'Python Programming assignment-4-checkpoint.ipynb', 'Python Programming assignment-5-checkpoint.ipynb', 'Python programming assignment-6-checkpoint.ipynb', 'Python Programming assignment-7-checkpoint.ipynb', 'Python Programming assignment-8-checkpoint.ipynb', 'Python Programming assignment-9-checkpoint.ipynb']\n",
      "['Assignment-2-checkpoint.ipynb', 'Assignment-3-checkpoint.ipynb', 'Assignment-4-checkpoint.ipynb', 'Assignment-5-checkpoint.ipynb', 'Assignment-6-checkpoint.ipynb', 'assignment-7-checkpoint.ipynb', 'assignment-8-checkpoint.ipynb', 'assignment-9-checkpoint.ipynb', 'Python assignment-10-checkpoint.ipynb', 'python assignment-11-checkpoint.ipynb', 'python assignment-12-checkpoint.ipynb', 'python assignment-13-checkpoint.ipynb', 'python assignment-14-checkpoint.ipynb', 'Python assignment-15-checkpoint.ipynb', 'Python assignment-16-checkpoint.ipynb', 'Python assignment-17-checkpoint.ipynb', 'Python assignment-18-checkpoint.ipynb', 'Python assignment-19-checkpoint.ipynb', 'Python assignment-20-checkpoint.ipynb', 'Python assignment-21-checkpoint.ipynb', 'Python assignment-9-checkpoint.ipynb', 'Python Programming assignment-2-checkpoint.ipynb', 'Python Programming assignment-3-checkpoint.ipynb', 'Python Programming assignment-4-checkpoint.ipynb', 'Python Programming assignment-5-checkpoint.ipynb', 'Python programming assignment-6-checkpoint.ipynb', 'Python Programming assignment-7-checkpoint.ipynb', 'Python Programming assignment-8-checkpoint.ipynb', 'Python Programming assignment-9-checkpoint.ipynb']\n",
      "['Assignment-2-checkpoint.ipynb', 'Assignment-3-checkpoint.ipynb', 'Assignment-4-checkpoint.ipynb', 'Assignment-5-checkpoint.ipynb', 'Assignment-6-checkpoint.ipynb', 'assignment-7-checkpoint.ipynb', 'assignment-8-checkpoint.ipynb', 'assignment-9-checkpoint.ipynb', 'Python assignment-10-checkpoint.ipynb', 'python assignment-11-checkpoint.ipynb', 'python assignment-12-checkpoint.ipynb', 'python assignment-13-checkpoint.ipynb', 'python assignment-14-checkpoint.ipynb', 'Python assignment-15-checkpoint.ipynb', 'Python assignment-16-checkpoint.ipynb', 'Python assignment-17-checkpoint.ipynb', 'Python assignment-18-checkpoint.ipynb', 'Python assignment-19-checkpoint.ipynb', 'Python assignment-20-checkpoint.ipynb', 'Python assignment-21-checkpoint.ipynb', 'Python assignment-9-checkpoint.ipynb', 'Python Programming assignment-2-checkpoint.ipynb', 'Python Programming assignment-3-checkpoint.ipynb', 'Python Programming assignment-4-checkpoint.ipynb', 'Python Programming assignment-5-checkpoint.ipynb', 'Python programming assignment-6-checkpoint.ipynb', 'Python Programming assignment-7-checkpoint.ipynb', 'Python Programming assignment-8-checkpoint.ipynb', 'Python Programming assignment-9-checkpoint.ipynb']\n",
      "['Assignment-2-checkpoint.ipynb', 'Assignment-3-checkpoint.ipynb', 'Assignment-4-checkpoint.ipynb', 'Assignment-5-checkpoint.ipynb', 'Assignment-6-checkpoint.ipynb', 'assignment-7-checkpoint.ipynb', 'assignment-8-checkpoint.ipynb', 'assignment-9-checkpoint.ipynb', 'Python assignment-10-checkpoint.ipynb', 'python assignment-11-checkpoint.ipynb', 'python assignment-12-checkpoint.ipynb', 'python assignment-13-checkpoint.ipynb', 'python assignment-14-checkpoint.ipynb', 'Python assignment-15-checkpoint.ipynb', 'Python assignment-16-checkpoint.ipynb', 'Python assignment-17-checkpoint.ipynb', 'Python assignment-18-checkpoint.ipynb', 'Python assignment-19-checkpoint.ipynb', 'Python assignment-20-checkpoint.ipynb', 'Python assignment-21-checkpoint.ipynb', 'Python assignment-9-checkpoint.ipynb', 'Python Programming assignment-2-checkpoint.ipynb', 'Python Programming assignment-3-checkpoint.ipynb', 'Python Programming assignment-4-checkpoint.ipynb', 'Python Programming assignment-5-checkpoint.ipynb', 'Python programming assignment-6-checkpoint.ipynb', 'Python Programming assignment-7-checkpoint.ipynb', 'Python Programming assignment-8-checkpoint.ipynb', 'Python Programming assignment-9-checkpoint.ipynb']\n",
      "['Assignment-2-checkpoint.ipynb', 'Assignment-3-checkpoint.ipynb', 'Assignment-4-checkpoint.ipynb', 'Assignment-5-checkpoint.ipynb', 'Assignment-6-checkpoint.ipynb', 'assignment-7-checkpoint.ipynb', 'assignment-8-checkpoint.ipynb', 'assignment-9-checkpoint.ipynb', 'Python assignment-10-checkpoint.ipynb', 'python assignment-11-checkpoint.ipynb', 'python assignment-12-checkpoint.ipynb', 'python assignment-13-checkpoint.ipynb', 'python assignment-14-checkpoint.ipynb', 'Python assignment-15-checkpoint.ipynb', 'Python assignment-16-checkpoint.ipynb', 'Python assignment-17-checkpoint.ipynb', 'Python assignment-18-checkpoint.ipynb', 'Python assignment-19-checkpoint.ipynb', 'Python assignment-20-checkpoint.ipynb', 'Python assignment-21-checkpoint.ipynb', 'Python assignment-9-checkpoint.ipynb', 'Python Programming assignment-2-checkpoint.ipynb', 'Python Programming assignment-3-checkpoint.ipynb', 'Python Programming assignment-4-checkpoint.ipynb', 'Python Programming assignment-5-checkpoint.ipynb', 'Python programming assignment-6-checkpoint.ipynb', 'Python Programming assignment-7-checkpoint.ipynb', 'Python Programming assignment-8-checkpoint.ipynb', 'Python Programming assignment-9-checkpoint.ipynb']\n",
      "['Assignment-2-checkpoint.ipynb', 'Assignment-3-checkpoint.ipynb', 'Assignment-4-checkpoint.ipynb', 'Assignment-5-checkpoint.ipynb', 'Assignment-6-checkpoint.ipynb', 'assignment-7-checkpoint.ipynb', 'assignment-8-checkpoint.ipynb', 'assignment-9-checkpoint.ipynb', 'Python assignment-10-checkpoint.ipynb', 'python assignment-11-checkpoint.ipynb', 'python assignment-12-checkpoint.ipynb', 'python assignment-13-checkpoint.ipynb', 'python assignment-14-checkpoint.ipynb', 'Python assignment-15-checkpoint.ipynb', 'Python assignment-16-checkpoint.ipynb', 'Python assignment-17-checkpoint.ipynb', 'Python assignment-18-checkpoint.ipynb', 'Python assignment-19-checkpoint.ipynb', 'Python assignment-20-checkpoint.ipynb', 'Python assignment-21-checkpoint.ipynb', 'Python assignment-9-checkpoint.ipynb', 'Python Programming assignment-2-checkpoint.ipynb', 'Python Programming assignment-3-checkpoint.ipynb', 'Python Programming assignment-4-checkpoint.ipynb', 'Python Programming assignment-5-checkpoint.ipynb', 'Python programming assignment-6-checkpoint.ipynb', 'Python Programming assignment-7-checkpoint.ipynb', 'Python Programming assignment-8-checkpoint.ipynb', 'Python Programming assignment-9-checkpoint.ipynb']\n",
      "['Assignment-2-checkpoint.ipynb', 'Assignment-3-checkpoint.ipynb', 'Assignment-4-checkpoint.ipynb', 'Assignment-5-checkpoint.ipynb', 'Assignment-6-checkpoint.ipynb', 'assignment-7-checkpoint.ipynb', 'assignment-8-checkpoint.ipynb', 'assignment-9-checkpoint.ipynb', 'Python assignment-10-checkpoint.ipynb', 'python assignment-11-checkpoint.ipynb', 'python assignment-12-checkpoint.ipynb', 'python assignment-13-checkpoint.ipynb', 'python assignment-14-checkpoint.ipynb', 'Python assignment-15-checkpoint.ipynb', 'Python assignment-16-checkpoint.ipynb', 'Python assignment-17-checkpoint.ipynb', 'Python assignment-18-checkpoint.ipynb', 'Python assignment-19-checkpoint.ipynb', 'Python assignment-20-checkpoint.ipynb', 'Python assignment-21-checkpoint.ipynb', 'Python assignment-9-checkpoint.ipynb', 'Python Programming assignment-2-checkpoint.ipynb', 'Python Programming assignment-3-checkpoint.ipynb', 'Python Programming assignment-4-checkpoint.ipynb', 'Python Programming assignment-5-checkpoint.ipynb', 'Python programming assignment-6-checkpoint.ipynb', 'Python Programming assignment-7-checkpoint.ipynb', 'Python Programming assignment-8-checkpoint.ipynb', 'Python Programming assignment-9-checkpoint.ipynb']\n",
      "['Assignment-2-checkpoint.ipynb', 'Assignment-3-checkpoint.ipynb', 'Assignment-4-checkpoint.ipynb', 'Assignment-5-checkpoint.ipynb', 'Assignment-6-checkpoint.ipynb', 'assignment-7-checkpoint.ipynb', 'assignment-8-checkpoint.ipynb', 'assignment-9-checkpoint.ipynb', 'Python assignment-10-checkpoint.ipynb', 'python assignment-11-checkpoint.ipynb', 'python assignment-12-checkpoint.ipynb', 'python assignment-13-checkpoint.ipynb', 'python assignment-14-checkpoint.ipynb', 'Python assignment-15-checkpoint.ipynb', 'Python assignment-16-checkpoint.ipynb', 'Python assignment-17-checkpoint.ipynb', 'Python assignment-18-checkpoint.ipynb', 'Python assignment-19-checkpoint.ipynb', 'Python assignment-20-checkpoint.ipynb', 'Python assignment-21-checkpoint.ipynb', 'Python assignment-9-checkpoint.ipynb', 'Python Programming assignment-2-checkpoint.ipynb', 'Python Programming assignment-3-checkpoint.ipynb', 'Python Programming assignment-4-checkpoint.ipynb', 'Python Programming assignment-5-checkpoint.ipynb', 'Python programming assignment-6-checkpoint.ipynb', 'Python Programming assignment-7-checkpoint.ipynb', 'Python Programming assignment-8-checkpoint.ipynb', 'Python Programming assignment-9-checkpoint.ipynb']\n",
      "['Assignment-2-checkpoint.ipynb', 'Assignment-3-checkpoint.ipynb', 'Assignment-4-checkpoint.ipynb', 'Assignment-5-checkpoint.ipynb', 'Assignment-6-checkpoint.ipynb', 'assignment-7-checkpoint.ipynb', 'assignment-8-checkpoint.ipynb', 'assignment-9-checkpoint.ipynb', 'Python assignment-10-checkpoint.ipynb', 'python assignment-11-checkpoint.ipynb', 'python assignment-12-checkpoint.ipynb', 'python assignment-13-checkpoint.ipynb', 'python assignment-14-checkpoint.ipynb', 'Python assignment-15-checkpoint.ipynb', 'Python assignment-16-checkpoint.ipynb', 'Python assignment-17-checkpoint.ipynb', 'Python assignment-18-checkpoint.ipynb', 'Python assignment-19-checkpoint.ipynb', 'Python assignment-20-checkpoint.ipynb', 'Python assignment-21-checkpoint.ipynb', 'Python assignment-9-checkpoint.ipynb', 'Python Programming assignment-2-checkpoint.ipynb', 'Python Programming assignment-3-checkpoint.ipynb', 'Python Programming assignment-4-checkpoint.ipynb', 'Python Programming assignment-5-checkpoint.ipynb', 'Python programming assignment-6-checkpoint.ipynb', 'Python Programming assignment-7-checkpoint.ipynb', 'Python Programming assignment-8-checkpoint.ipynb', 'Python Programming assignment-9-checkpoint.ipynb']\n",
      "['Assignment-2-checkpoint.ipynb', 'Assignment-3-checkpoint.ipynb', 'Assignment-4-checkpoint.ipynb', 'Assignment-5-checkpoint.ipynb', 'Assignment-6-checkpoint.ipynb', 'assignment-7-checkpoint.ipynb', 'assignment-8-checkpoint.ipynb', 'assignment-9-checkpoint.ipynb', 'Python assignment-10-checkpoint.ipynb', 'python assignment-11-checkpoint.ipynb', 'python assignment-12-checkpoint.ipynb', 'python assignment-13-checkpoint.ipynb', 'python assignment-14-checkpoint.ipynb', 'Python assignment-15-checkpoint.ipynb', 'Python assignment-16-checkpoint.ipynb', 'Python assignment-17-checkpoint.ipynb', 'Python assignment-18-checkpoint.ipynb', 'Python assignment-19-checkpoint.ipynb', 'Python assignment-20-checkpoint.ipynb', 'Python assignment-21-checkpoint.ipynb', 'Python assignment-9-checkpoint.ipynb', 'Python Programming assignment-2-checkpoint.ipynb', 'Python Programming assignment-3-checkpoint.ipynb', 'Python Programming assignment-4-checkpoint.ipynb', 'Python Programming assignment-5-checkpoint.ipynb', 'Python programming assignment-6-checkpoint.ipynb', 'Python Programming assignment-7-checkpoint.ipynb', 'Python Programming assignment-8-checkpoint.ipynb', 'Python Programming assignment-9-checkpoint.ipynb']\n",
      "['Assignment-2-checkpoint.ipynb', 'Assignment-3-checkpoint.ipynb', 'Assignment-4-checkpoint.ipynb', 'Assignment-5-checkpoint.ipynb', 'Assignment-6-checkpoint.ipynb', 'assignment-7-checkpoint.ipynb', 'assignment-8-checkpoint.ipynb', 'assignment-9-checkpoint.ipynb', 'Python assignment-10-checkpoint.ipynb', 'python assignment-11-checkpoint.ipynb', 'python assignment-12-checkpoint.ipynb', 'python assignment-13-checkpoint.ipynb', 'python assignment-14-checkpoint.ipynb', 'Python assignment-15-checkpoint.ipynb', 'Python assignment-16-checkpoint.ipynb', 'Python assignment-17-checkpoint.ipynb', 'Python assignment-18-checkpoint.ipynb', 'Python assignment-19-checkpoint.ipynb', 'Python assignment-20-checkpoint.ipynb', 'Python assignment-21-checkpoint.ipynb', 'Python assignment-9-checkpoint.ipynb', 'Python Programming assignment-2-checkpoint.ipynb', 'Python Programming assignment-3-checkpoint.ipynb', 'Python Programming assignment-4-checkpoint.ipynb', 'Python Programming assignment-5-checkpoint.ipynb', 'Python programming assignment-6-checkpoint.ipynb', 'Python Programming assignment-7-checkpoint.ipynb', 'Python Programming assignment-8-checkpoint.ipynb', 'Python Programming assignment-9-checkpoint.ipynb']\n",
      "['Assignment-2-checkpoint.ipynb', 'Assignment-3-checkpoint.ipynb', 'Assignment-4-checkpoint.ipynb', 'Assignment-5-checkpoint.ipynb', 'Assignment-6-checkpoint.ipynb', 'assignment-7-checkpoint.ipynb', 'assignment-8-checkpoint.ipynb', 'assignment-9-checkpoint.ipynb', 'Python assignment-10-checkpoint.ipynb', 'python assignment-11-checkpoint.ipynb', 'python assignment-12-checkpoint.ipynb', 'python assignment-13-checkpoint.ipynb', 'python assignment-14-checkpoint.ipynb', 'Python assignment-15-checkpoint.ipynb', 'Python assignment-16-checkpoint.ipynb', 'Python assignment-17-checkpoint.ipynb', 'Python assignment-18-checkpoint.ipynb', 'Python assignment-19-checkpoint.ipynb', 'Python assignment-20-checkpoint.ipynb', 'Python assignment-21-checkpoint.ipynb', 'Python assignment-9-checkpoint.ipynb', 'Python Programming assignment-2-checkpoint.ipynb', 'Python Programming assignment-3-checkpoint.ipynb', 'Python Programming assignment-4-checkpoint.ipynb', 'Python Programming assignment-5-checkpoint.ipynb', 'Python programming assignment-6-checkpoint.ipynb', 'Python Programming assignment-7-checkpoint.ipynb', 'Python Programming assignment-8-checkpoint.ipynb', 'Python Programming assignment-9-checkpoint.ipynb']\n",
      "['Assignment-2-checkpoint.ipynb', 'Assignment-3-checkpoint.ipynb', 'Assignment-4-checkpoint.ipynb', 'Assignment-5-checkpoint.ipynb', 'Assignment-6-checkpoint.ipynb', 'assignment-7-checkpoint.ipynb', 'assignment-8-checkpoint.ipynb', 'assignment-9-checkpoint.ipynb', 'Python assignment-10-checkpoint.ipynb', 'python assignment-11-checkpoint.ipynb', 'python assignment-12-checkpoint.ipynb', 'python assignment-13-checkpoint.ipynb', 'python assignment-14-checkpoint.ipynb', 'Python assignment-15-checkpoint.ipynb', 'Python assignment-16-checkpoint.ipynb', 'Python assignment-17-checkpoint.ipynb', 'Python assignment-18-checkpoint.ipynb', 'Python assignment-19-checkpoint.ipynb', 'Python assignment-20-checkpoint.ipynb', 'Python assignment-21-checkpoint.ipynb', 'Python assignment-9-checkpoint.ipynb', 'Python Programming assignment-2-checkpoint.ipynb', 'Python Programming assignment-3-checkpoint.ipynb', 'Python Programming assignment-4-checkpoint.ipynb', 'Python Programming assignment-5-checkpoint.ipynb', 'Python programming assignment-6-checkpoint.ipynb', 'Python Programming assignment-7-checkpoint.ipynb', 'Python Programming assignment-8-checkpoint.ipynb', 'Python Programming assignment-9-checkpoint.ipynb']\n",
      "['Assignment-2-checkpoint.ipynb', 'Assignment-3-checkpoint.ipynb', 'Assignment-4-checkpoint.ipynb', 'Assignment-5-checkpoint.ipynb', 'Assignment-6-checkpoint.ipynb', 'assignment-7-checkpoint.ipynb', 'assignment-8-checkpoint.ipynb', 'assignment-9-checkpoint.ipynb', 'Python assignment-10-checkpoint.ipynb', 'python assignment-11-checkpoint.ipynb', 'python assignment-12-checkpoint.ipynb', 'python assignment-13-checkpoint.ipynb', 'python assignment-14-checkpoint.ipynb', 'Python assignment-15-checkpoint.ipynb', 'Python assignment-16-checkpoint.ipynb', 'Python assignment-17-checkpoint.ipynb', 'Python assignment-18-checkpoint.ipynb', 'Python assignment-19-checkpoint.ipynb', 'Python assignment-20-checkpoint.ipynb', 'Python assignment-21-checkpoint.ipynb', 'Python assignment-9-checkpoint.ipynb', 'Python Programming assignment-2-checkpoint.ipynb', 'Python Programming assignment-3-checkpoint.ipynb', 'Python Programming assignment-4-checkpoint.ipynb', 'Python Programming assignment-5-checkpoint.ipynb', 'Python programming assignment-6-checkpoint.ipynb', 'Python Programming assignment-7-checkpoint.ipynb', 'Python Programming assignment-8-checkpoint.ipynb', 'Python Programming assignment-9-checkpoint.ipynb']\n",
      "['Assignment-2-checkpoint.ipynb', 'Assignment-3-checkpoint.ipynb', 'Assignment-4-checkpoint.ipynb', 'Assignment-5-checkpoint.ipynb', 'Assignment-6-checkpoint.ipynb', 'assignment-7-checkpoint.ipynb', 'assignment-8-checkpoint.ipynb', 'assignment-9-checkpoint.ipynb', 'Python assignment-10-checkpoint.ipynb', 'python assignment-11-checkpoint.ipynb', 'python assignment-12-checkpoint.ipynb', 'python assignment-13-checkpoint.ipynb', 'python assignment-14-checkpoint.ipynb', 'Python assignment-15-checkpoint.ipynb', 'Python assignment-16-checkpoint.ipynb', 'Python assignment-17-checkpoint.ipynb', 'Python assignment-18-checkpoint.ipynb', 'Python assignment-19-checkpoint.ipynb', 'Python assignment-20-checkpoint.ipynb', 'Python assignment-21-checkpoint.ipynb', 'Python assignment-9-checkpoint.ipynb', 'Python Programming assignment-2-checkpoint.ipynb', 'Python Programming assignment-3-checkpoint.ipynb', 'Python Programming assignment-4-checkpoint.ipynb', 'Python Programming assignment-5-checkpoint.ipynb', 'Python programming assignment-6-checkpoint.ipynb', 'Python Programming assignment-7-checkpoint.ipynb', 'Python Programming assignment-8-checkpoint.ipynb', 'Python Programming assignment-9-checkpoint.ipynb']\n",
      "['Assignment-2-checkpoint.ipynb', 'Assignment-3-checkpoint.ipynb', 'Assignment-4-checkpoint.ipynb', 'Assignment-5-checkpoint.ipynb', 'Assignment-6-checkpoint.ipynb', 'assignment-7-checkpoint.ipynb', 'assignment-8-checkpoint.ipynb', 'assignment-9-checkpoint.ipynb', 'Python assignment-10-checkpoint.ipynb', 'python assignment-11-checkpoint.ipynb', 'python assignment-12-checkpoint.ipynb', 'python assignment-13-checkpoint.ipynb', 'python assignment-14-checkpoint.ipynb', 'Python assignment-15-checkpoint.ipynb', 'Python assignment-16-checkpoint.ipynb', 'Python assignment-17-checkpoint.ipynb', 'Python assignment-18-checkpoint.ipynb', 'Python assignment-19-checkpoint.ipynb', 'Python assignment-20-checkpoint.ipynb', 'Python assignment-21-checkpoint.ipynb', 'Python assignment-9-checkpoint.ipynb', 'Python Programming assignment-2-checkpoint.ipynb', 'Python Programming assignment-3-checkpoint.ipynb', 'Python Programming assignment-4-checkpoint.ipynb', 'Python Programming assignment-5-checkpoint.ipynb', 'Python programming assignment-6-checkpoint.ipynb', 'Python Programming assignment-7-checkpoint.ipynb', 'Python Programming assignment-8-checkpoint.ipynb', 'Python Programming assignment-9-checkpoint.ipynb']\n",
      "['Assignment-2-checkpoint.ipynb', 'Assignment-3-checkpoint.ipynb', 'Assignment-4-checkpoint.ipynb', 'Assignment-5-checkpoint.ipynb', 'Assignment-6-checkpoint.ipynb', 'assignment-7-checkpoint.ipynb', 'assignment-8-checkpoint.ipynb', 'assignment-9-checkpoint.ipynb', 'Python assignment-10-checkpoint.ipynb', 'python assignment-11-checkpoint.ipynb', 'python assignment-12-checkpoint.ipynb', 'python assignment-13-checkpoint.ipynb', 'python assignment-14-checkpoint.ipynb', 'Python assignment-15-checkpoint.ipynb', 'Python assignment-16-checkpoint.ipynb', 'Python assignment-17-checkpoint.ipynb', 'Python assignment-18-checkpoint.ipynb', 'Python assignment-19-checkpoint.ipynb', 'Python assignment-20-checkpoint.ipynb', 'Python assignment-21-checkpoint.ipynb', 'Python assignment-9-checkpoint.ipynb', 'Python Programming assignment-2-checkpoint.ipynb', 'Python Programming assignment-3-checkpoint.ipynb', 'Python Programming assignment-4-checkpoint.ipynb', 'Python Programming assignment-5-checkpoint.ipynb', 'Python programming assignment-6-checkpoint.ipynb', 'Python Programming assignment-7-checkpoint.ipynb', 'Python Programming assignment-8-checkpoint.ipynb', 'Python Programming assignment-9-checkpoint.ipynb']\n",
      "['Assignment-2-checkpoint.ipynb', 'Assignment-3-checkpoint.ipynb', 'Assignment-4-checkpoint.ipynb', 'Assignment-5-checkpoint.ipynb', 'Assignment-6-checkpoint.ipynb', 'assignment-7-checkpoint.ipynb', 'assignment-8-checkpoint.ipynb', 'assignment-9-checkpoint.ipynb', 'Python assignment-10-checkpoint.ipynb', 'python assignment-11-checkpoint.ipynb', 'python assignment-12-checkpoint.ipynb', 'python assignment-13-checkpoint.ipynb', 'python assignment-14-checkpoint.ipynb', 'Python assignment-15-checkpoint.ipynb', 'Python assignment-16-checkpoint.ipynb', 'Python assignment-17-checkpoint.ipynb', 'Python assignment-18-checkpoint.ipynb', 'Python assignment-19-checkpoint.ipynb', 'Python assignment-20-checkpoint.ipynb', 'Python assignment-21-checkpoint.ipynb', 'Python assignment-9-checkpoint.ipynb', 'Python Programming assignment-2-checkpoint.ipynb', 'Python Programming assignment-3-checkpoint.ipynb', 'Python Programming assignment-4-checkpoint.ipynb', 'Python Programming assignment-5-checkpoint.ipynb', 'Python programming assignment-6-checkpoint.ipynb', 'Python Programming assignment-7-checkpoint.ipynb', 'Python Programming assignment-8-checkpoint.ipynb', 'Python Programming assignment-9-checkpoint.ipynb']\n",
      "['Assignment-2-checkpoint.ipynb', 'Assignment-3-checkpoint.ipynb', 'Assignment-4-checkpoint.ipynb', 'Assignment-5-checkpoint.ipynb', 'Assignment-6-checkpoint.ipynb', 'assignment-7-checkpoint.ipynb', 'assignment-8-checkpoint.ipynb', 'assignment-9-checkpoint.ipynb', 'Python assignment-10-checkpoint.ipynb', 'python assignment-11-checkpoint.ipynb', 'python assignment-12-checkpoint.ipynb', 'python assignment-13-checkpoint.ipynb', 'python assignment-14-checkpoint.ipynb', 'Python assignment-15-checkpoint.ipynb', 'Python assignment-16-checkpoint.ipynb', 'Python assignment-17-checkpoint.ipynb', 'Python assignment-18-checkpoint.ipynb', 'Python assignment-19-checkpoint.ipynb', 'Python assignment-20-checkpoint.ipynb', 'Python assignment-21-checkpoint.ipynb', 'Python assignment-9-checkpoint.ipynb', 'Python Programming assignment-2-checkpoint.ipynb', 'Python Programming assignment-3-checkpoint.ipynb', 'Python Programming assignment-4-checkpoint.ipynb', 'Python Programming assignment-5-checkpoint.ipynb', 'Python programming assignment-6-checkpoint.ipynb', 'Python Programming assignment-7-checkpoint.ipynb', 'Python Programming assignment-8-checkpoint.ipynb', 'Python Programming assignment-9-checkpoint.ipynb']\n",
      "['Assignment-2-checkpoint.ipynb', 'Assignment-3-checkpoint.ipynb', 'Assignment-4-checkpoint.ipynb', 'Assignment-5-checkpoint.ipynb', 'Assignment-6-checkpoint.ipynb', 'assignment-7-checkpoint.ipynb', 'assignment-8-checkpoint.ipynb', 'assignment-9-checkpoint.ipynb', 'Python assignment-10-checkpoint.ipynb', 'python assignment-11-checkpoint.ipynb', 'python assignment-12-checkpoint.ipynb', 'python assignment-13-checkpoint.ipynb', 'python assignment-14-checkpoint.ipynb', 'Python assignment-15-checkpoint.ipynb', 'Python assignment-16-checkpoint.ipynb', 'Python assignment-17-checkpoint.ipynb', 'Python assignment-18-checkpoint.ipynb', 'Python assignment-19-checkpoint.ipynb', 'Python assignment-20-checkpoint.ipynb', 'Python assignment-21-checkpoint.ipynb', 'Python assignment-9-checkpoint.ipynb', 'Python Programming assignment-2-checkpoint.ipynb', 'Python Programming assignment-3-checkpoint.ipynb', 'Python Programming assignment-4-checkpoint.ipynb', 'Python Programming assignment-5-checkpoint.ipynb', 'Python programming assignment-6-checkpoint.ipynb', 'Python Programming assignment-7-checkpoint.ipynb', 'Python Programming assignment-8-checkpoint.ipynb', 'Python Programming assignment-9-checkpoint.ipynb']\n",
      "['Assignment-2-checkpoint.ipynb', 'Assignment-3-checkpoint.ipynb', 'Assignment-4-checkpoint.ipynb', 'Assignment-5-checkpoint.ipynb', 'Assignment-6-checkpoint.ipynb', 'assignment-7-checkpoint.ipynb', 'assignment-8-checkpoint.ipynb', 'assignment-9-checkpoint.ipynb', 'Python assignment-10-checkpoint.ipynb', 'python assignment-11-checkpoint.ipynb', 'python assignment-12-checkpoint.ipynb', 'python assignment-13-checkpoint.ipynb', 'python assignment-14-checkpoint.ipynb', 'Python assignment-15-checkpoint.ipynb', 'Python assignment-16-checkpoint.ipynb', 'Python assignment-17-checkpoint.ipynb', 'Python assignment-18-checkpoint.ipynb', 'Python assignment-19-checkpoint.ipynb', 'Python assignment-20-checkpoint.ipynb', 'Python assignment-21-checkpoint.ipynb', 'Python assignment-9-checkpoint.ipynb', 'Python Programming assignment-2-checkpoint.ipynb', 'Python Programming assignment-3-checkpoint.ipynb', 'Python Programming assignment-4-checkpoint.ipynb', 'Python Programming assignment-5-checkpoint.ipynb', 'Python programming assignment-6-checkpoint.ipynb', 'Python Programming assignment-7-checkpoint.ipynb', 'Python Programming assignment-8-checkpoint.ipynb', 'Python Programming assignment-9-checkpoint.ipynb']\n",
      "['Assignment-2-checkpoint.ipynb', 'Assignment-3-checkpoint.ipynb', 'Assignment-4-checkpoint.ipynb', 'Assignment-5-checkpoint.ipynb', 'Assignment-6-checkpoint.ipynb', 'assignment-7-checkpoint.ipynb', 'assignment-8-checkpoint.ipynb', 'assignment-9-checkpoint.ipynb', 'Python assignment-10-checkpoint.ipynb', 'python assignment-11-checkpoint.ipynb', 'python assignment-12-checkpoint.ipynb', 'python assignment-13-checkpoint.ipynb', 'python assignment-14-checkpoint.ipynb', 'Python assignment-15-checkpoint.ipynb', 'Python assignment-16-checkpoint.ipynb', 'Python assignment-17-checkpoint.ipynb', 'Python assignment-18-checkpoint.ipynb', 'Python assignment-19-checkpoint.ipynb', 'Python assignment-20-checkpoint.ipynb', 'Python assignment-21-checkpoint.ipynb', 'Python assignment-9-checkpoint.ipynb', 'Python Programming assignment-2-checkpoint.ipynb', 'Python Programming assignment-3-checkpoint.ipynb', 'Python Programming assignment-4-checkpoint.ipynb', 'Python Programming assignment-5-checkpoint.ipynb', 'Python programming assignment-6-checkpoint.ipynb', 'Python Programming assignment-7-checkpoint.ipynb', 'Python Programming assignment-8-checkpoint.ipynb', 'Python Programming assignment-9-checkpoint.ipynb']\n",
      "['Assignment-2-checkpoint.ipynb', 'Assignment-3-checkpoint.ipynb', 'Assignment-4-checkpoint.ipynb', 'Assignment-5-checkpoint.ipynb', 'Assignment-6-checkpoint.ipynb', 'assignment-7-checkpoint.ipynb', 'assignment-8-checkpoint.ipynb', 'assignment-9-checkpoint.ipynb', 'Python assignment-10-checkpoint.ipynb', 'python assignment-11-checkpoint.ipynb', 'python assignment-12-checkpoint.ipynb', 'python assignment-13-checkpoint.ipynb', 'python assignment-14-checkpoint.ipynb', 'Python assignment-15-checkpoint.ipynb', 'Python assignment-16-checkpoint.ipynb', 'Python assignment-17-checkpoint.ipynb', 'Python assignment-18-checkpoint.ipynb', 'Python assignment-19-checkpoint.ipynb', 'Python assignment-20-checkpoint.ipynb', 'Python assignment-21-checkpoint.ipynb', 'Python assignment-9-checkpoint.ipynb', 'Python Programming assignment-2-checkpoint.ipynb', 'Python Programming assignment-3-checkpoint.ipynb', 'Python Programming assignment-4-checkpoint.ipynb', 'Python Programming assignment-5-checkpoint.ipynb', 'Python programming assignment-6-checkpoint.ipynb', 'Python Programming assignment-7-checkpoint.ipynb', 'Python Programming assignment-8-checkpoint.ipynb', 'Python Programming assignment-9-checkpoint.ipynb']\n",
      "['Assignment-2-checkpoint.ipynb', 'Assignment-3-checkpoint.ipynb', 'Assignment-4-checkpoint.ipynb', 'Assignment-5-checkpoint.ipynb', 'Assignment-6-checkpoint.ipynb', 'assignment-7-checkpoint.ipynb', 'assignment-8-checkpoint.ipynb', 'assignment-9-checkpoint.ipynb', 'Python assignment-10-checkpoint.ipynb', 'python assignment-11-checkpoint.ipynb', 'python assignment-12-checkpoint.ipynb', 'python assignment-13-checkpoint.ipynb', 'python assignment-14-checkpoint.ipynb', 'Python assignment-15-checkpoint.ipynb', 'Python assignment-16-checkpoint.ipynb', 'Python assignment-17-checkpoint.ipynb', 'Python assignment-18-checkpoint.ipynb', 'Python assignment-19-checkpoint.ipynb', 'Python assignment-20-checkpoint.ipynb', 'Python assignment-21-checkpoint.ipynb', 'Python assignment-9-checkpoint.ipynb', 'Python Programming assignment-2-checkpoint.ipynb', 'Python Programming assignment-3-checkpoint.ipynb', 'Python Programming assignment-4-checkpoint.ipynb', 'Python Programming assignment-5-checkpoint.ipynb', 'Python programming assignment-6-checkpoint.ipynb', 'Python Programming assignment-7-checkpoint.ipynb', 'Python Programming assignment-8-checkpoint.ipynb', 'Python Programming assignment-9-checkpoint.ipynb']\n",
      "['Assignment-2-checkpoint.ipynb', 'Assignment-3-checkpoint.ipynb', 'Assignment-4-checkpoint.ipynb', 'Assignment-5-checkpoint.ipynb', 'Assignment-6-checkpoint.ipynb', 'assignment-7-checkpoint.ipynb', 'assignment-8-checkpoint.ipynb', 'assignment-9-checkpoint.ipynb', 'Python assignment-10-checkpoint.ipynb', 'python assignment-11-checkpoint.ipynb', 'python assignment-12-checkpoint.ipynb', 'python assignment-13-checkpoint.ipynb', 'python assignment-14-checkpoint.ipynb', 'Python assignment-15-checkpoint.ipynb', 'Python assignment-16-checkpoint.ipynb', 'Python assignment-17-checkpoint.ipynb', 'Python assignment-18-checkpoint.ipynb', 'Python assignment-19-checkpoint.ipynb', 'Python assignment-20-checkpoint.ipynb', 'Python assignment-21-checkpoint.ipynb', 'Python assignment-9-checkpoint.ipynb', 'Python Programming assignment-2-checkpoint.ipynb', 'Python Programming assignment-3-checkpoint.ipynb', 'Python Programming assignment-4-checkpoint.ipynb', 'Python Programming assignment-5-checkpoint.ipynb', 'Python programming assignment-6-checkpoint.ipynb', 'Python Programming assignment-7-checkpoint.ipynb', 'Python Programming assignment-8-checkpoint.ipynb', 'Python Programming assignment-9-checkpoint.ipynb']\n",
      "['Assignment-2-checkpoint.ipynb', 'Assignment-3-checkpoint.ipynb', 'Assignment-4-checkpoint.ipynb', 'Assignment-5-checkpoint.ipynb', 'Assignment-6-checkpoint.ipynb', 'assignment-7-checkpoint.ipynb', 'assignment-8-checkpoint.ipynb', 'assignment-9-checkpoint.ipynb', 'Python assignment-10-checkpoint.ipynb', 'python assignment-11-checkpoint.ipynb', 'python assignment-12-checkpoint.ipynb', 'python assignment-13-checkpoint.ipynb', 'python assignment-14-checkpoint.ipynb', 'Python assignment-15-checkpoint.ipynb', 'Python assignment-16-checkpoint.ipynb', 'Python assignment-17-checkpoint.ipynb', 'Python assignment-18-checkpoint.ipynb', 'Python assignment-19-checkpoint.ipynb', 'Python assignment-20-checkpoint.ipynb', 'Python assignment-21-checkpoint.ipynb', 'Python assignment-9-checkpoint.ipynb', 'Python Programming assignment-2-checkpoint.ipynb', 'Python Programming assignment-3-checkpoint.ipynb', 'Python Programming assignment-4-checkpoint.ipynb', 'Python Programming assignment-5-checkpoint.ipynb', 'Python programming assignment-6-checkpoint.ipynb', 'Python Programming assignment-7-checkpoint.ipynb', 'Python Programming assignment-8-checkpoint.ipynb', 'Python Programming assignment-9-checkpoint.ipynb']\n",
      "['Assignment-2-checkpoint.ipynb', 'Assignment-3-checkpoint.ipynb', 'Assignment-4-checkpoint.ipynb', 'Assignment-5-checkpoint.ipynb', 'Assignment-6-checkpoint.ipynb', 'assignment-7-checkpoint.ipynb', 'assignment-8-checkpoint.ipynb', 'assignment-9-checkpoint.ipynb', 'Python assignment-10-checkpoint.ipynb', 'python assignment-11-checkpoint.ipynb', 'python assignment-12-checkpoint.ipynb', 'python assignment-13-checkpoint.ipynb', 'python assignment-14-checkpoint.ipynb', 'Python assignment-15-checkpoint.ipynb', 'Python assignment-16-checkpoint.ipynb', 'Python assignment-17-checkpoint.ipynb', 'Python assignment-18-checkpoint.ipynb', 'Python assignment-19-checkpoint.ipynb', 'Python assignment-20-checkpoint.ipynb', 'Python assignment-21-checkpoint.ipynb', 'Python assignment-9-checkpoint.ipynb', 'Python Programming assignment-2-checkpoint.ipynb', 'Python Programming assignment-3-checkpoint.ipynb', 'Python Programming assignment-4-checkpoint.ipynb', 'Python Programming assignment-5-checkpoint.ipynb', 'Python programming assignment-6-checkpoint.ipynb', 'Python Programming assignment-7-checkpoint.ipynb', 'Python Programming assignment-8-checkpoint.ipynb', 'Python Programming assignment-9-checkpoint.ipynb']\n",
      "['Assignment-2-checkpoint.ipynb', 'Assignment-3-checkpoint.ipynb', 'Assignment-4-checkpoint.ipynb', 'Assignment-5-checkpoint.ipynb', 'Assignment-6-checkpoint.ipynb', 'assignment-7-checkpoint.ipynb', 'assignment-8-checkpoint.ipynb', 'assignment-9-checkpoint.ipynb', 'Python assignment-10-checkpoint.ipynb', 'python assignment-11-checkpoint.ipynb', 'python assignment-12-checkpoint.ipynb', 'python assignment-13-checkpoint.ipynb', 'python assignment-14-checkpoint.ipynb', 'Python assignment-15-checkpoint.ipynb', 'Python assignment-16-checkpoint.ipynb', 'Python assignment-17-checkpoint.ipynb', 'Python assignment-18-checkpoint.ipynb', 'Python assignment-19-checkpoint.ipynb', 'Python assignment-20-checkpoint.ipynb', 'Python assignment-21-checkpoint.ipynb', 'Python assignment-9-checkpoint.ipynb', 'Python Programming assignment-2-checkpoint.ipynb', 'Python Programming assignment-3-checkpoint.ipynb', 'Python Programming assignment-4-checkpoint.ipynb', 'Python Programming assignment-5-checkpoint.ipynb', 'Python programming assignment-6-checkpoint.ipynb', 'Python Programming assignment-7-checkpoint.ipynb', 'Python Programming assignment-8-checkpoint.ipynb', 'Python Programming assignment-9-checkpoint.ipynb']\n"
     ]
    }
   ],
   "source": [
    "import os\n",
    "for folder, subfolder,files in os.walk(os.getcwd()):\n",
    "    for file in files:\n",
    "        print(files)"
   ]
  },
  {
   "cell_type": "markdown",
   "id": "84925de5",
   "metadata": {},
   "source": [
    "### 5. Create a list of all of the files in your parent directory (minimum five files should be available)."
   ]
  },
  {
   "cell_type": "code",
   "execution_count": 7,
   "id": "3531e1c9",
   "metadata": {},
   "outputs": [
    {
     "data": {
      "text/plain": [
       "['.ipynb_checkpoints',\n",
       " 'application_log.txt',\n",
       " 'Assignment-2.ipynb',\n",
       " 'Assignment-3.ipynb',\n",
       " 'Assignment-4.ipynb',\n",
       " 'Assignment-5.ipynb',\n",
       " 'Assignment-6.ipynb',\n",
       " 'assignment-7.ipynb',\n",
       " 'assignment-8.ipynb',\n",
       " 'assignment-9.ipynb',\n",
       " 'books.csv',\n",
       " 'books.db',\n",
       " 'Pic.jpeg',\n",
       " 'pic2.jpeg',\n",
       " 'Python assignment-10.ipynb',\n",
       " 'python assignment-11.ipynb',\n",
       " 'python assignment-12.ipynb',\n",
       " 'python assignment-13.ipynb',\n",
       " 'python assignment-14.ipynb',\n",
       " 'Python assignment-15.ipynb',\n",
       " 'Python assignment-16.ipynb',\n",
       " 'Python assignment-17.ipynb',\n",
       " 'Python assignment-18.ipynb',\n",
       " 'Python assignment-19.ipynb',\n",
       " 'Python assignment-20.ipynb',\n",
       " 'Python assignment-21.ipynb',\n",
       " 'Python assignment-9.ipynb',\n",
       " 'Python Programming assignment-2.ipynb',\n",
       " 'Python Programming assignment-3.ipynb',\n",
       " 'Python Programming assignment-4.ipynb',\n",
       " 'Python Programming assignment-5.ipynb',\n",
       " 'Python programming assignment-6.ipynb',\n",
       " 'Python Programming assignment-7.ipynb',\n",
       " 'Python Programming assignment-8.ipynb',\n",
       " 'Python Programming assignment-9.ipynb',\n",
       " 'test.txt',\n",
       " 'today.txt',\n",
       " 'university_records.csv']"
      ]
     },
     "execution_count": 7,
     "metadata": {},
     "output_type": "execute_result"
    }
   ],
   "source": [
    "import os\n",
    "os.listdir()"
   ]
  },
  {
   "cell_type": "markdown",
   "id": "f4c11100",
   "metadata": {},
   "source": [
    "### 6. Use multiprocessing to create three separate processes. Make each one wait a random number of seconds between one and five, print the current time, and then exit."
   ]
  },
  {
   "cell_type": "code",
   "execution_count": 12,
   "id": "514ba4b4",
   "metadata": {},
   "outputs": [],
   "source": [
    "import multiprocessing\n",
    "import time\n",
    "import random\n",
    "import datetime\n",
    "\n",
    "def procOne():\n",
    "    print(f'Proc_one_Starttime->{datetime.datetime.now()}')\n",
    "    time.sleep(random.randint(1,5))\n",
    "    print(f'Proc_one_Endtime->{datetime.datetime.now()}')\n",
    "    \n",
    "def procTwo():\n",
    "    print(f'Proc_two_Starttime -> {datetime.datetime.now()}')\n",
    "    time.sleep(random.randint(1,5))\n",
    "    print(f'Proc_two_Endtime -> {datetime.datetime.now()}')\n",
    "\n",
    "def procThree():\n",
    "    print(f'Proc_two_Starttime -> {datetime.datetime.now()}')\n",
    "    time.sleep(random.randint(1,5))\n",
    "    print(f'Proc_two_Endtime -> {datetime.datetime.now()}')  \n",
    "    \n",
    "    \n",
    "if __name__ == \"__main__\":    \n",
    "    p1 = multiprocessing.Process(target=procOne)\n",
    "    p2 = multiprocessing.Process(target=procTwo)\n",
    "    p3 = multiprocessing.Process(target=procThree)\n",
    "\n",
    "    p1.start()\n",
    "    p2.start()\n",
    "    p3.start()\n",
    "\n",
    "    p1.join()\n",
    "    p2.join()\n",
    "    p3.join()    \n",
    "    "
   ]
  },
  {
   "cell_type": "markdown",
   "id": "f063474d",
   "metadata": {},
   "source": [
    "### 7. Create a date object of your day of birth."
   ]
  },
  {
   "cell_type": "code",
   "execution_count": 14,
   "id": "6b754cf8",
   "metadata": {},
   "outputs": [
    {
     "name": "stdout",
     "output_type": "stream",
     "text": [
      "1996-03-31 00:00:00 <class 'datetime.datetime'>\n"
     ]
    }
   ],
   "source": [
    "from datetime import datetime\n",
    "my_dob = datetime.strptime('31/03/1996','%d/%m/%Y')\n",
    "print(my_dob,type(my_dob))"
   ]
  },
  {
   "cell_type": "markdown",
   "id": "0aa8f88f",
   "metadata": {},
   "source": [
    "### 8. What day of the week was your day of birth?"
   ]
  },
  {
   "cell_type": "code",
   "execution_count": 15,
   "id": "2dc825d5",
   "metadata": {},
   "outputs": [
    {
     "data": {
      "text/plain": [
       "'Sunday'"
      ]
     },
     "execution_count": 15,
     "metadata": {},
     "output_type": "execute_result"
    }
   ],
   "source": [
    "from datetime import datetime\n",
    "my_dob = datetime(1996,3,31)\n",
    "my_dob.strftime('%A')"
   ]
  },
  {
   "cell_type": "markdown",
   "id": "8837ce33",
   "metadata": {},
   "source": [
    "### 9. When will you be (or when were you) 10,000 days old?"
   ]
  },
  {
   "cell_type": "code",
   "execution_count": 18,
   "id": "87004bad",
   "metadata": {},
   "outputs": [
    {
     "data": {
      "text/plain": [
       "datetime.datetime(1968, 11, 3, 0, 0)"
      ]
     },
     "execution_count": 18,
     "metadata": {},
     "output_type": "execute_result"
    }
   ],
   "source": [
    "from datetime import datetime,timedelta\n",
    "my_dob = datetime.strptime('21/03/1996','%d/%m/%Y')\n",
    "future_date = my_dob-timedelta(10000)\n",
    "future_date"
   ]
  }
 ],
 "metadata": {
  "kernelspec": {
   "display_name": "Python 3 (ipykernel)",
   "language": "python",
   "name": "python3"
  },
  "language_info": {
   "codemirror_mode": {
    "name": "ipython",
    "version": 3
   },
   "file_extension": ".py",
   "mimetype": "text/x-python",
   "name": "python",
   "nbconvert_exporter": "python",
   "pygments_lexer": "ipython3",
   "version": "3.9.7"
  }
 },
 "nbformat": 4,
 "nbformat_minor": 5
}
