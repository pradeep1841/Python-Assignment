{
 "cells": [
  {
   "cell_type": "markdown",
   "id": "1147d06a",
   "metadata": {},
   "source": [
    "# Python assignment-22"
   ]
  },
  {
   "cell_type": "markdown",
   "id": "19f2fb8a",
   "metadata": {},
   "source": [
    "### 1. What is the result of the code, and explain?\n",
    ">>> X = 'iNeuron'\n",
    ">>> def func():\n",
    "print(X)\n",
    ">>> func()"
   ]
  },
  {
   "cell_type": "code",
   "execution_count": null,
   "id": "05de2108",
   "metadata": {},
   "outputs": [],
   "source": [
    "Ans: The Result of this code is iNeuron,\n",
    "    it's because the function intially looks \n",
    "    for the variable X in its local scope,\n",
    "    But since there is no local variable X, \n",
    "    its returns the value of global variable x ie iNeuron"
   ]
  },
  {
   "cell_type": "code",
   "execution_count": 1,
   "id": "fc8d9988",
   "metadata": {},
   "outputs": [
    {
     "name": "stdout",
     "output_type": "stream",
     "text": [
      "iNeuron\n"
     ]
    }
   ],
   "source": [
    "X = 'iNeuron'\n",
    "def func():\n",
    "    print(X)\n",
    "func()"
   ]
  },
  {
   "cell_type": "markdown",
   "id": "2567b4ab",
   "metadata": {},
   "source": [
    "### 2. What is the result of the code, and explain?\n",
    ">>> X = 'iNeuron'\n",
    ">>> def func():\n",
    "X = 'NI!'\n",
    ">>> func()\n",
    ">>> print(X)"
   ]
  },
  {
   "cell_type": "code",
   "execution_count": null,
   "id": "bdd67c2c",
   "metadata": {},
   "outputs": [],
   "source": [
    "Ans: The Result of this cide is NI!, because the function initially looks\n",
    "    for the variable X in its local scope if X is not available\n",
    "    then it checks for variable X in the global scope, Since\n",
    "    here the X is present in the local scope. it prints the value NI!"
   ]
  },
  {
   "cell_type": "code",
   "execution_count": 5,
   "id": "afc16825",
   "metadata": {},
   "outputs": [
    {
     "name": "stdout",
     "output_type": "stream",
     "text": [
      "NI!\n"
     ]
    }
   ],
   "source": [
    "X = 'iNeuron'\n",
    "def func():\n",
    "    X = 'NI!'\n",
    "    print(X)\n",
    "func()"
   ]
  },
  {
   "cell_type": "markdown",
   "id": "666200dd",
   "metadata": {},
   "source": [
    "### 3. What does this code print, and why?\n",
    ">>> X = 'iNeuron'\n",
    ">>> def func():\n",
    "X = 'NI'\n",
    "print(X)\n",
    ">>> func()\n",
    ">>> print(X)"
   ]
  },
  {
   "cell_type": "code",
   "execution_count": null,
   "id": "b940f5a9",
   "metadata": {},
   "outputs": [],
   "source": [
    "Ans: The output of the code is NI and iNeuron. X=NI is in the local scope\n",
    "    of the function func() hence the function prints the x value as NI.\n",
    "    X = 'iNeuron' is in the global scope. hence print(X) prints output\n",
    "    as iNeuron"
   ]
  },
  {
   "cell_type": "code",
   "execution_count": 6,
   "id": "09aeea97",
   "metadata": {},
   "outputs": [
    {
     "name": "stdout",
     "output_type": "stream",
     "text": [
      "NI\n",
      "iNeuron\n"
     ]
    }
   ],
   "source": [
    "X = 'iNeuron'\n",
    "def func():\n",
    "    X = 'NI'\n",
    "    print(X)\n",
    "func()\n",
    "print(X)"
   ]
  },
  {
   "cell_type": "markdown",
   "id": "795a63a8",
   "metadata": {},
   "source": [
    "### 4. What output does this code produce? Why?\n",
    ">>> X = 'iNeuron'\n",
    ">>> def func():\n",
    "global X\n",
    "X = 'NI'\n",
    ">>> func()\n",
    ">>> print(X)"
   ]
  },
  {
   "cell_type": "code",
   "execution_count": null,
   "id": "5f9be3e5",
   "metadata": {},
   "outputs": [],
   "source": [
    "Ans: The output of the code is NI. the global keyword allows a variable\n",
    "    to be accessible in the current scope. since we are using global\n",
    "    keyword inside the function func it directly access the variable in\n",
    "    X in global scope. and changes its value to NI. hence the output \n",
    "    of the code is NI\n"
   ]
  },
  {
   "cell_type": "code",
   "execution_count": 7,
   "id": "347d2c04",
   "metadata": {},
   "outputs": [
    {
     "name": "stdout",
     "output_type": "stream",
     "text": [
      "NI\n"
     ]
    }
   ],
   "source": [
    "X = 'iNeuron'\n",
    "def func():\n",
    "    global X\n",
    "    X = 'NI'\n",
    "func()\n",
    "print(X)"
   ]
  },
  {
   "cell_type": "markdown",
   "id": "fa0875e8",
   "metadata": {},
   "source": [
    "### 5. What about this code—what’s the output, and why?\n",
    ">>> X = 'iNeuron'\n",
    ">>> def func():\n",
    "X = 'NI'\n",
    "def nested():\n",
    "print(X)\n",
    "nested()\n",
    ">>> func()\n",
    ">>> X"
   ]
  },
  {
   "cell_type": "code",
   "execution_count": null,
   "id": "d879f78d",
   "metadata": {},
   "outputs": [],
   "source": [
    "Ans: The output of the code is NI. the reason for this output is if\n",
    "    a function wants to access a variable, if its not available in \n",
    "    its localscope. it looks for the variable in its global scope.\n",
    "    similarly here also function nested looks for variable X in its\n",
    "    global scope. hence the output of the code is NI"
   ]
  },
  {
   "cell_type": "code",
   "execution_count": 9,
   "id": "bfbeaf3d",
   "metadata": {},
   "outputs": [
    {
     "name": "stdout",
     "output_type": "stream",
     "text": [
      "NI\n"
     ]
    },
    {
     "data": {
      "text/plain": [
       "'iNeuron'"
      ]
     },
     "execution_count": 9,
     "metadata": {},
     "output_type": "execute_result"
    }
   ],
   "source": [
    "X = 'iNeuron'\n",
    "def func():\n",
    "    X = 'NI'\n",
    "    def nested():\n",
    "        print(X)\n",
    "    nested()\n",
    "func()\n",
    "X"
   ]
  },
  {
   "cell_type": "markdown",
   "id": "c5a19a24",
   "metadata": {},
   "source": [
    "# 6. How about this code: what is its output in Python 3, and explain?\n",
    ">>> def func():\n",
    "X = 'NI'\n",
    "def nested():\n",
    "nonlocal X\n",
    "X = 'Spam'\n",
    "nested()\n",
    "print(X)\n",
    ">>> func()"
   ]
  },
  {
   "cell_type": "code",
   "execution_count": null,
   "id": "be671dd7",
   "metadata": {},
   "outputs": [],
   "source": [
    "Ans: The output of the code is Spam. nonlocal keyword in python is used \n",
    "    to declare a variable as not local.Hence the statement\n",
    "    X = \"Spam\" is modified in the global scope. hence the output\n",
    "    of print(X) statement is Spam"
   ]
  },
  {
   "cell_type": "code",
   "execution_count": 10,
   "id": "e0b0d1e0",
   "metadata": {},
   "outputs": [
    {
     "name": "stdout",
     "output_type": "stream",
     "text": [
      "Spam\n"
     ]
    }
   ],
   "source": [
    "def func():\n",
    "    X = 'NI'\n",
    "    def nested():\n",
    "        nonlocal X\n",
    "        X = 'Spam'\n",
    "    nested()\n",
    "    print(X)\n",
    "func()"
   ]
  }
 ],
 "metadata": {
  "kernelspec": {
   "display_name": "Python 3 (ipykernel)",
   "language": "python",
   "name": "python3"
  },
  "language_info": {
   "codemirror_mode": {
    "name": "ipython",
    "version": 3
   },
   "file_extension": ".py",
   "mimetype": "text/x-python",
   "name": "python",
   "nbconvert_exporter": "python",
   "pygments_lexer": "ipython3",
   "version": "3.9.7"
  }
 },
 "nbformat": 4,
 "nbformat_minor": 5
}
