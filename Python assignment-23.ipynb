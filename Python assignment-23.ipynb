{
 "cells": [
  {
   "cell_type": "markdown",
   "id": "ef7e5b73",
   "metadata": {},
   "source": [
    "# Python assignment-23"
   ]
  },
  {
   "cell_type": "markdown",
   "id": "17bc40c0",
   "metadata": {},
   "source": [
    "### 1. What is the result of the code, and why?\n",
    ">>> def func(a, b=6, c=8):\n",
    "print(a, b, c)\n",
    ">>> func(1, 2)"
   ]
  },
  {
   "cell_type": "code",
   "execution_count": null,
   "id": "20038a2f",
   "metadata": {},
   "outputs": [],
   "source": [
    "Ans: The result of the above code is 1 2 8. its because the function uses \n",
    "    the default value of c ie 8 which is provided at the time of declaration"
   ]
  },
  {
   "cell_type": "code",
   "execution_count": 1,
   "id": "760e4898",
   "metadata": {},
   "outputs": [
    {
     "name": "stdout",
     "output_type": "stream",
     "text": [
      "1 2 8\n"
     ]
    }
   ],
   "source": [
    "def func(a, b=6, c=8):\n",
    "    print(a, b, c)\n",
    "func(1, 2)"
   ]
  },
  {
   "cell_type": "markdown",
   "id": "9e0e1bb8",
   "metadata": {},
   "source": [
    "### 2. What is the result of this code, and why?\n",
    ">>> def func(a, b, c=5):\n",
    "print(a, b, c)\n",
    ">>> func(1, c=3, b=2)"
   ]
  },
  {
   "cell_type": "code",
   "execution_count": null,
   "id": "b095aa65",
   "metadata": {},
   "outputs": [],
   "source": [
    "Ans: The result of the above code is 1 2 3. it is because the function will\n",
    "    use default values only when a value for a argument\n",
    "    is not provided and if argument name is mentioned while doing a\n",
    "    function call, the order of arguments is also ignored by the python\n",
    "    interpreter"
   ]
  },
  {
   "cell_type": "code",
   "execution_count": 2,
   "id": "d0fea336",
   "metadata": {},
   "outputs": [
    {
     "name": "stdout",
     "output_type": "stream",
     "text": [
      "1 2 3\n"
     ]
    }
   ],
   "source": [
    "def func(a, b, c=5):\n",
    "    print(a, b, c)\n",
    "func(1, c=3, b=2)"
   ]
  },
  {
   "cell_type": "markdown",
   "id": "23bd1471",
   "metadata": {},
   "source": [
    "# 3. How about this code: what is its result, and why?\n",
    ">>> def func(a, *pargs):\n",
    "print(a, pargs)\n",
    ">>> func(1, 2, 3)"
   ]
  },
  {
   "cell_type": "code",
   "execution_count": null,
   "id": "57e1b756",
   "metadata": {},
   "outputs": [],
   "source": [
    "Ans: The result of the code is 1 (2,3). *pargs stands for variable length\n",
    "    arguments. this format is used when we are not sure about the no of\n",
    "    arguments to be passed to a function. all the values under this \n",
    "    argument will be stored in a tuple."
   ]
  },
  {
   "cell_type": "code",
   "execution_count": 3,
   "id": "7fc28f7c",
   "metadata": {},
   "outputs": [
    {
     "name": "stdout",
     "output_type": "stream",
     "text": [
      "1 (2, 3)\n"
     ]
    }
   ],
   "source": [
    "def func(a, *pargs):\n",
    "    print(a, pargs)\n",
    "func(1, 2, 3)"
   ]
  },
  {
   "cell_type": "markdown",
   "id": "496887b6",
   "metadata": {},
   "source": [
    "### 4. What does this code print, and why?\n",
    ">>> def func(a, **kargs):\n",
    "print(a, kargs)\n",
    ">>> func(a=1, c=3, b=2)"
   ]
  },
  {
   "cell_type": "code",
   "execution_count": null,
   "id": "c4f7e44a",
   "metadata": {},
   "outputs": [],
   "source": [
    "Ans: The result of the above code is 1 {'c': 3, 'b': 2}. **args stands for\n",
    "    variable length keyword arguments.\n",
    "    this format is used when we want pass key value pairs as input to\n",
    "a function. All these key value pairs will be stored in a dictionary"
   ]
  },
  {
   "cell_type": "code",
   "execution_count": 4,
   "id": "71f4ee87",
   "metadata": {},
   "outputs": [
    {
     "name": "stdout",
     "output_type": "stream",
     "text": [
      "1 {'c': 3, 'b': 2}\n"
     ]
    }
   ],
   "source": [
    "def func(a, **kargs):\n",
    "    print(a, kargs)\n",
    "func(a=1, c=3, b=2)"
   ]
  },
  {
   "cell_type": "markdown",
   "id": "a11a1fc0",
   "metadata": {},
   "source": [
    "### 5. What gets printed by this, and explain?\n",
    ">>> def func(a, b, c=8, d=5): print(a, b, c, d)\n",
    ">>> func(1, *(5, 6))"
   ]
  },
  {
   "cell_type": "code",
   "execution_count": null,
   "id": "149ee6d6",
   "metadata": {},
   "outputs": [],
   "source": [
    "Ans: The output of the above is 1 5 6 5. This reason for this function not\n",
    "    throwing an error is because, this function expects 4 arguments.\n",
    "    the value for a is provided explicitly whereas for arguments b and c,\n",
    "    the function will expand the *(5,6) and consider the value of b as 5 \n",
    "    and value of c as 6. since the default value of d is provided in \n",
    "    function declaration d value will be 5. However it is recommended to \n",
    "    use the feature of positional arguments at the end."
   ]
  },
  {
   "cell_type": "code",
   "execution_count": 5,
   "id": "bc9a00db",
   "metadata": {},
   "outputs": [
    {
     "name": "stdout",
     "output_type": "stream",
     "text": [
      "1 5 6 5\n"
     ]
    }
   ],
   "source": [
    "def func(a, b, c=8, d=5):\n",
    "    print(a, b, c, d)\n",
    "func(1, *(5, 6))"
   ]
  },
  {
   "cell_type": "markdown",
   "id": "eb2a6982",
   "metadata": {},
   "source": [
    "# 6. what is the result of this, and explain?\n",
    ">>> def func(a, b, c): a = 2; b[0] = 'x'; c['a'] = 'y'\n",
    ">>> l=1; m=[1]; n={'a':0}\n",
    ">>> func(l, m, n)\n",
    ">>> l, m, n"
   ]
  },
  {
   "cell_type": "code",
   "execution_count": 6,
   "id": "47412364",
   "metadata": {},
   "outputs": [
    {
     "data": {
      "text/plain": [
       "(1, ['x'], {'a': 'y'})"
      ]
     },
     "execution_count": 6,
     "metadata": {},
     "output_type": "execute_result"
    }
   ],
   "source": [
    "def func(a, b, c): a = 2; b[0] = 'x'; c['a'] = 'y'\n",
    "l=1; m=[1]; n={'a':0}\n",
    "func(l, m, n)\n",
    "l, m, n"
   ]
  }
 ],
 "metadata": {
  "kernelspec": {
   "display_name": "Python 3 (ipykernel)",
   "language": "python",
   "name": "python3"
  },
  "language_info": {
   "codemirror_mode": {
    "name": "ipython",
    "version": 3
   },
   "file_extension": ".py",
   "mimetype": "text/x-python",
   "name": "python",
   "nbconvert_exporter": "python",
   "pygments_lexer": "ipython3",
   "version": "3.9.7"
  }
 },
 "nbformat": 4,
 "nbformat_minor": 5
}
