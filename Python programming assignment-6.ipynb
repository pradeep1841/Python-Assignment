{
 "cells": [
  {
   "cell_type": "markdown",
   "id": "96c26280",
   "metadata": {},
   "source": [
    "### Python programming assignment-6"
   ]
  },
  {
   "cell_type": "markdown",
   "id": "a8003adc",
   "metadata": {},
   "source": [
    "### 1. Write a Python Program to Display Fibonacci Sequence Using Recursion?"
   ]
  },
  {
   "cell_type": "code",
   "execution_count": 2,
   "id": "d9b0dce9",
   "metadata": {},
   "outputs": [
    {
     "name": "stdout",
     "output_type": "stream",
     "text": [
      "Enter the lenght of Series: 20\n",
      "0,1, 3, 5, 8, 13, 21, 34, 55, 89, 144, 233, 377, 610, 987, 1597, 2584, 4181, 6765, 10946, 17711, 28657, "
     ]
    }
   ],
   "source": [
    "def genFib(n,a,b):\n",
    "    if n==0:\n",
    "        return 1\n",
    "    else:\n",
    "        result=a+b\n",
    "        print(result, end=', ')\n",
    "        genFib(n-1,b,result)\n",
    "num = int(input(\"Enter the lenght of Series: \"))\n",
    "print('0,1', end = ', ')\n",
    "genFib(num, 1,2)"
   ]
  },
  {
   "cell_type": "markdown",
   "id": "045e3cf5",
   "metadata": {},
   "source": [
    "### 2. Write a Python Program to Find Factorial of a Number using Recursion ?"
   ]
  },
  {
   "cell_type": "code",
   "execution_count": 3,
   "id": "8934a926",
   "metadata": {},
   "outputs": [
    {
     "name": "stdout",
     "output_type": "stream",
     "text": [
      "Enter a number: 5\n",
      "The factorial of 5 is 120\n"
     ]
    }
   ],
   "source": [
    "def fact(num):\n",
    "    if num < 1:\n",
    "        return 1\n",
    "    else:\n",
    "        return num * fact(num-1)\n",
    "    \n",
    "num = int(input('Enter a number: '))\n",
    "value = fact(num)\n",
    "print(f'The factorial of {num} is {value}')"
   ]
  },
  {
   "cell_type": "markdown",
   "id": "5214eeea",
   "metadata": {},
   "source": [
    "### 3. Write a Python Program to Calculate your Body Mass Index ?"
   ]
  },
  {
   "cell_type": "code",
   "execution_count": 6,
   "id": "9a4ec0af",
   "metadata": {},
   "outputs": [
    {
     "name": "stdout",
     "output_type": "stream",
     "text": [
      "Enter your weight(kgs): 60\n",
      "Enter your weight(mts): 1.7\n",
      " Your' re BMI is 20.761245674740486 and status is Healthy \n"
     ]
    }
   ],
   "source": [
    "def calculateBMI():\n",
    "    in_weight=eval(input('Enter your weight(kgs): '))\n",
    "    in_height= eval(input('Enter your weight(mts): '))\n",
    "    calc_bmi = in_weight/pow(in_height,2)\n",
    "    if(calc_bmi<18.5):\n",
    "        status = 'Undeweight'\n",
    "    elif(calc_bmi>=18.5 and calc_bmi<24.9):\n",
    "        status='Healthy'\n",
    "    elif (calc_bmi>=24.9 and calc_bmi< 30):\n",
    "        status='Overweight'\n",
    "    elif(calc_bmi>=30):\n",
    "        status = 'Suffering from obesity'\n",
    "    print(f' Your\\' re BMI is {calc_bmi} and status is {status} ')\n",
    "\n",
    "calculateBMI()    \n",
    "            "
   ]
  },
  {
   "cell_type": "markdown",
   "id": "8bd01887",
   "metadata": {},
   "source": [
    "### 4. Write a Python Program to Calculate the Natural Logarithm of any Number ?"
   ]
  },
  {
   "cell_type": "code",
   "execution_count": 8,
   "id": "fe0a0b74",
   "metadata": {},
   "outputs": [
    {
     "name": "stdout",
     "output_type": "stream",
     "text": [
      "Enter a Number: 12\n",
      "2.4849066497880004\n"
     ]
    }
   ],
   "source": [
    "import math\n",
    "def genNatural():\n",
    "    in_num=eval(input(\"Enter a Number: \"))\n",
    "    print(math.log(in_num))\n",
    "    \n",
    "genNatural()    "
   ]
  },
  {
   "cell_type": "markdown",
   "id": "0f03efe8",
   "metadata": {},
   "source": [
    "### 5. Write a Python Program for Cube sum of first n Natural Numbers ?"
   ]
  },
  {
   "cell_type": "code",
   "execution_count": 9,
   "id": "ca65cca8",
   "metadata": {},
   "outputs": [
    {
     "name": "stdout",
     "output_type": "stream",
     "text": [
      "Enter the no of naturual Numbers: 3\n",
      "The cube of First 3 Natural Numbers is 36.0\n"
     ]
    }
   ],
   "source": [
    "def cubeOfNaturalNumbers():\n",
    "    in_num = int(input(\"Enter the no of naturual Numbers: \"))\n",
    "    result = pow(((in_num * (in_num+1))/2),2)\n",
    "    print(f'The cube of First {in_num} Natural Numbers is {result}')\n",
    "    \n",
    "cubeOfNaturalNumbers()    "
   ]
  }
 ],
 "metadata": {
  "kernelspec": {
   "display_name": "Python 3 (ipykernel)",
   "language": "python",
   "name": "python3"
  },
  "language_info": {
   "codemirror_mode": {
    "name": "ipython",
    "version": 3
   },
   "file_extension": ".py",
   "mimetype": "text/x-python",
   "name": "python",
   "nbconvert_exporter": "python",
   "pygments_lexer": "ipython3",
   "version": "3.9.7"
  }
 },
 "nbformat": 4,
 "nbformat_minor": 5
}
