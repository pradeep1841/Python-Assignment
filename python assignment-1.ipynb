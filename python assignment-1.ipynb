{
 "cells": [
  {
   "cell_type": "markdown",
   "id": "b5e8004f",
   "metadata": {},
   "source": [
    "# Python Assignment-1"
   ]
  },
  {
   "cell_type": "code",
   "execution_count": null,
   "id": "9c69d59c",
   "metadata": {},
   "outputs": [],
   "source": [
    "1. In the below elements which of them are values or an expression? eg:- values can be\n",
    "integer or string and expressions will be mathematical operators.\n",
    "*\n",
    "'hello'\n",
    "-87.8\n",
    "-\n",
    "/\n",
    "+\n",
    "6\n",
    "\n",
    "Ans: Expression are: *,-,/,+ and values are: 'hello', -87.8, 6\n",
    "        "
   ]
  },
  {
   "cell_type": "code",
   "execution_count": null,
   "id": "64efe821",
   "metadata": {},
   "outputs": [],
   "source": [
    "2. What is the difference between string and variable?\n",
    "Ans: String-String is nothing but sequence of character which is enclosed in the quote(single quote or double quote).\n",
    "    Example: \"India\", 'Pakistan' \n",
    "        \n",
    "    Variable: Variable is nothing but storage of value it can be str, float, int based on the values provided.\n",
    "    Example: a=10\n",
    "             b=\"India\""
   ]
  },
  {
   "cell_type": "code",
   "execution_count": null,
   "id": "95e3f421",
   "metadata": {},
   "outputs": [],
   "source": [
    "3. Describe three different data types.\n",
    "Ans: int- Int is a positive or negative whole number without any decimal value.(10,20, 45 but not 10.2, 85.4)\n",
    "    float- Float is a decimal value.(Like 1.5,50.3)\n",
    "    str- String is a sequence of character data type within single or double quotes. (like 'Yonex', 'India')\n",
    "    "
   ]
  },
  {
   "cell_type": "code",
   "execution_count": null,
   "id": "9bb92321",
   "metadata": {},
   "outputs": [],
   "source": [
    "4. What is an expression made up of? What do all expressions do?\n",
    "Ans: An expression is made up of values, operators and containers.\n",
    "    for example:\n",
    "        a=10+24 (Here adding 10 and 20 as an expression and store to variable a)\n",
    "    "
   ]
  },
  {
   "cell_type": "code",
   "execution_count": null,
   "id": "92aaf447",
   "metadata": {},
   "outputs": [],
   "source": [
    "5. This assignment statements, like spam = 10. What is the difference between an\n",
    "expression and a statement?\n",
    "Ans:The assignment statements assign the value to a variable.\n",
    "    Here spam=10, value 10 is stored in variable spam and now spam will have the value 10.\n",
    "    But in expression a=b+c it means that the values depends on b and c."
   ]
  },
  {
   "cell_type": "code",
   "execution_count": null,
   "id": "aa32adcf",
   "metadata": {},
   "outputs": [],
   "source": [
    "6. After running the following code, what does the variable bacon contain?\n",
    "bacon = 22\n",
    "bacon + 1\n",
    "Ans: It gives 23 as an output"
   ]
  },
  {
   "cell_type": "code",
   "execution_count": null,
   "id": "4a91c773",
   "metadata": {},
   "outputs": [],
   "source": [
    "7. What should the values of the following two terms be?\n",
    "spam + spamspam;\n",
    "spam * 3\n",
    "Ans:spam + spamspam(spamspamspam)\n",
    "    spam * 3(spamspamspam)"
   ]
  },
  {
   "cell_type": "code",
   "execution_count": null,
   "id": "9d19e760",
   "metadata": {},
   "outputs": [],
   "source": [
    "8. Why is eggs a valid variable name while 100 is invalid?\n",
    "Ans: variables name cannot begins with number"
   ]
  },
  {
   "cell_type": "code",
   "execution_count": null,
   "id": "06765151",
   "metadata": {},
   "outputs": [],
   "source": [
    "9. What three functions can be used to get the integer, floating-point number, or string\n",
    "version of a value?\n",
    "Ans: The int(), float(), and str() functions will evaluate to the integer,\n",
    "    floating-point number, and string versions of the value passed to them."
   ]
  },
  {
   "cell_type": "code",
   "execution_count": null,
   "id": "2201ccae",
   "metadata": {},
   "outputs": [],
   "source": [
    "10. Why does this expression cause an error? How can you fix it?\n",
    "'I have eaten'+ 99 + 'burritos'\n",
    "Ans:The expression causes an error because 99 is an integer,\n",
    "    and only strings can be concatenated to other strings with the + operator.\n",
    "    The correct way is I have eaten ' + str(99) + ' burritos.'."
   ]
  }
 ],
 "metadata": {
  "kernelspec": {
   "display_name": "Python 3 (ipykernel)",
   "language": "python",
   "name": "python3"
  },
  "language_info": {
   "codemirror_mode": {
    "name": "ipython",
    "version": 3
   },
   "file_extension": ".py",
   "mimetype": "text/x-python",
   "name": "python",
   "nbconvert_exporter": "python",
   "pygments_lexer": "ipython3",
   "version": "3.9.7"
  }
 },
 "nbformat": 4,
 "nbformat_minor": 5
}
