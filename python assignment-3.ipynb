{
 "cells": [
  {
   "cell_type": "markdown",
   "id": "40368b78",
   "metadata": {},
   "source": [
    "# Python assignment-3"
   ]
  },
  {
   "cell_type": "markdown",
   "id": "c9e453f6",
   "metadata": {},
   "source": [
    "### 1. Why are functions advantageous to have in your programs?"
   ]
  },
  {
   "cell_type": "markdown",
   "id": "f65e3906",
   "metadata": {},
   "source": [
    "Ans: Advantages of having the funtion in Python is to reduce the repetative code. This makes program shorter, easy to undertand, easy to write."
   ]
  },
  {
   "cell_type": "markdown",
   "id": "14b22f13",
   "metadata": {},
   "source": [
    "### 2. When does the code in a function run: when it's specified or when it's called?"
   ]
  },
  {
   "cell_type": "code",
   "execution_count": null,
   "id": "37e3fecb",
   "metadata": {},
   "outputs": [],
   "source": [
    "Ans: The code in function executes when the function called not when the function defined. "
   ]
  },
  {
   "cell_type": "markdown",
   "id": "5dd458ec",
   "metadata": {},
   "source": [
    "### 3. What statement creates a function?"
   ]
  },
  {
   "cell_type": "code",
   "execution_count": null,
   "id": "bfdb956c",
   "metadata": {},
   "outputs": [],
   "source": [
    "Ans: def is a keywork to help to create the function or to define the function.\n",
    "    for example:\n",
    "        def f1():\n",
    "            pass"
   ]
  },
  {
   "cell_type": "markdown",
   "id": "57345df6",
   "metadata": {},
   "source": [
    "### 4. What is the difference between a function and a function call?"
   ]
  },
  {
   "cell_type": "code",
   "execution_count": null,
   "id": "6b2ad139",
   "metadata": {},
   "outputs": [],
   "source": [
    "Ans: #Creating the function\n",
    "    def f1():\n",
    "        pass\n",
    "    f1() # Calling function\n",
    "    \n",
    "A function consists of the def statement and the code in its def clause.\n",
    "\n",
    "A function call is what moves the program execution into the function,\n",
    "and the function call evaluates to the function's return value.    "
   ]
  },
  {
   "cell_type": "markdown",
   "id": "7d1c52e6",
   "metadata": {},
   "source": [
    "### 5. How many global scopes are there in a Python program? How many local scopes?"
   ]
  },
  {
   "cell_type": "code",
   "execution_count": null,
   "id": "df032cc0",
   "metadata": {},
   "outputs": [],
   "source": [
    "Ans: There's only one global Python scope per program execution.\n",
    "    This scope remains in existence until the program terminates , \n",
    "    and a local scope is created whenever a function is called."
   ]
  },
  {
   "cell_type": "markdown",
   "id": "617cb5d9",
   "metadata": {},
   "source": [
    "### 6. What happens to variables in a local scope when the function call returns?"
   ]
  },
  {
   "cell_type": "code",
   "execution_count": null,
   "id": "0ef6655a",
   "metadata": {},
   "outputs": [],
   "source": [
    "Ans: Whenever a function return then variable destroyed."
   ]
  },
  {
   "cell_type": "markdown",
   "id": "3ba99b96",
   "metadata": {},
   "source": [
    "### 7. What is the concept of a return value? Is it possible to have a return value in an expression?"
   ]
  },
  {
   "cell_type": "code",
   "execution_count": null,
   "id": "282f6b7d",
   "metadata": {},
   "outputs": [],
   "source": [
    "Ans: A return value is the value that a function call evaluates to. Like any value,\n",
    "a return value can be used as part of an expression."
   ]
  },
  {
   "cell_type": "markdown",
   "id": "2b68f03f",
   "metadata": {},
   "source": [
    "### 8. If a function does not have a return statement, what is the return value of a call to that function?"
   ]
  },
  {
   "cell_type": "code",
   "execution_count": null,
   "id": "15307a68",
   "metadata": {},
   "outputs": [],
   "source": [
    "Ans: If the funtion does not have a return statement it will not return anything."
   ]
  },
  {
   "cell_type": "markdown",
   "id": "9f64b038",
   "metadata": {},
   "source": [
    "### 9. How do you make a function variable refer to the global variable?"
   ]
  },
  {
   "cell_type": "code",
   "execution_count": null,
   "id": "0db65db9",
   "metadata": {},
   "outputs": [],
   "source": [
    "Ans: To make function variable as a global variable you can use the\n",
    "    global keyword to declare which variables are global."
   ]
  },
  {
   "cell_type": "markdown",
   "id": "dfd7011c",
   "metadata": {},
   "source": [
    "### 10. What is the data type of None?"
   ]
  },
  {
   "cell_type": "code",
   "execution_count": null,
   "id": "15fa0e27",
   "metadata": {},
   "outputs": [],
   "source": [
    "Ans: The data type of None is NoneType."
   ]
  },
  {
   "cell_type": "markdown",
   "id": "f8f84599",
   "metadata": {},
   "source": [
    "### 11. What does the sentence import areallyourpetsnamederic do?"
   ]
  },
  {
   "cell_type": "code",
   "execution_count": null,
   "id": "b9e0bd03",
   "metadata": {},
   "outputs": [],
   "source": [
    "Ans: That import statement imports a module named areallyourpetsnamederic. (But a module of this name doesnt exists in Python)"
   ]
  },
  {
   "cell_type": "markdown",
   "id": "e597d140",
   "metadata": {},
   "source": [
    "### 12. If you had a bacon() feature in a spam module, what would you call it after importing spam?"
   ]
  },
  {
   "cell_type": "code",
   "execution_count": null,
   "id": "84117bf1",
   "metadata": {},
   "outputs": [],
   "source": [
    "Ans: import spam\n",
    "    spam.bacon()"
   ]
  },
  {
   "cell_type": "markdown",
   "id": "5fd73157",
   "metadata": {},
   "source": [
    "### 13. What can you do to save a programme from crashing if it encounters an error?"
   ]
  },
  {
   "cell_type": "code",
   "execution_count": null,
   "id": "bf6517dc",
   "metadata": {},
   "outputs": [],
   "source": [
    "Ans: We can use try and except to save a  program from crashing."
   ]
  },
  {
   "cell_type": "markdown",
   "id": "cb6ce3dc",
   "metadata": {},
   "source": [
    "### 14. What is the purpose of the try clause? What is the purpose of the except clause?"
   ]
  },
  {
   "cell_type": "code",
   "execution_count": null,
   "id": "aaef70f1",
   "metadata": {},
   "outputs": [],
   "source": [
    "Ans: Try and Except clause is used to handle the errors within our code .\n",
    "    The try block is used to check some code for errors\n",
    "    i.e the code inside the try block will execute when there is\n",
    "    no error in the program. Whereas the code inside the except \n",
    "    block will execute whenever the program encounters some error in the try block.\n",
    "\n",
    "Eg. try:\n",
    "# Code\n",
    "except:\n",
    "# Executed if error in the\n",
    "# try block"
   ]
  }
 ],
 "metadata": {
  "kernelspec": {
   "display_name": "Python 3 (ipykernel)",
   "language": "python",
   "name": "python3"
  },
  "language_info": {
   "codemirror_mode": {
    "name": "ipython",
    "version": 3
   },
   "file_extension": ".py",
   "mimetype": "text/x-python",
   "name": "python",
   "nbconvert_exporter": "python",
   "pygments_lexer": "ipython3",
   "version": "3.9.7"
  }
 },
 "nbformat": 4,
 "nbformat_minor": 5
}
