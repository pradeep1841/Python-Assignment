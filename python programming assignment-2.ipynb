{
 "cells": [
  {
   "cell_type": "markdown",
   "id": "b5f2ca8c",
   "metadata": {},
   "source": [
    "# Python Programming Assignment-2"
   ]
  },
  {
   "cell_type": "markdown",
   "id": "98f34059",
   "metadata": {},
   "source": [
    "### 1. Write a Python program to convert kilometers to miles?"
   ]
  },
  {
   "cell_type": "code",
   "execution_count": 7,
   "id": "fbbd7a76",
   "metadata": {},
   "outputs": [
    {
     "name": "stdout",
     "output_type": "stream",
     "text": [
      "Enter the no of KM: 1\n",
      "1 km is equal to 0.621 miles\n"
     ]
    }
   ],
   "source": [
    "def kmToMiles():\n",
    "    kilometers = int(input(\"Enter the no of KM: \"))\n",
    "    print('{} km is equal to {} miles'.format(kilometers,kilometers*0.621))\n",
    "    \n",
    "kmToMiles()    "
   ]
  },
  {
   "cell_type": "markdown",
   "id": "e10afcf7",
   "metadata": {},
   "source": [
    "### 2. Write a Python program to convert Celsius to Fahrenheit?"
   ]
  },
  {
   "cell_type": "code",
   "execution_count": 10,
   "id": "30985247",
   "metadata": {},
   "outputs": [
    {
     "name": "stdout",
     "output_type": "stream",
     "text": [
      "Enter the temperature of celsious: 100\n",
      "100° Celsius is Equal to 212.0° Farenheit\n"
     ]
    }
   ],
   "source": [
    "def celsiusToFah():\n",
    "    celsius = int(input(\"Enter the temperature of celsious: \"))\n",
    "    fahrenheit = (celsius*(9/5))+32\n",
    "    print(\"{}° Celsius is Equal to {}° Farenheit\".format(celsius,fahrenheit))\n",
    "celsiusToFah()    "
   ]
  },
  {
   "cell_type": "markdown",
   "id": "3b08c078",
   "metadata": {},
   "source": [
    "### 3. Write a Python program to display calendar?"
   ]
  },
  {
   "cell_type": "code",
   "execution_count": 13,
   "id": "b625d4eb",
   "metadata": {},
   "outputs": [
    {
     "name": "stdout",
     "output_type": "stream",
     "text": [
      "Enter the calendar year: 2023\n",
      "                                  2023\n",
      "\n",
      "      January                   February                   March\n",
      "Mo Tu We Th Fr Sa Su      Mo Tu We Th Fr Sa Su      Mo Tu We Th Fr Sa Su\n",
      "                   1             1  2  3  4  5             1  2  3  4  5\n",
      " 2  3  4  5  6  7  8       6  7  8  9 10 11 12       6  7  8  9 10 11 12\n",
      " 9 10 11 12 13 14 15      13 14 15 16 17 18 19      13 14 15 16 17 18 19\n",
      "16 17 18 19 20 21 22      20 21 22 23 24 25 26      20 21 22 23 24 25 26\n",
      "23 24 25 26 27 28 29      27 28                     27 28 29 30 31\n",
      "30 31\n",
      "\n",
      "       April                      May                       June\n",
      "Mo Tu We Th Fr Sa Su      Mo Tu We Th Fr Sa Su      Mo Tu We Th Fr Sa Su\n",
      "                1  2       1  2  3  4  5  6  7                1  2  3  4\n",
      " 3  4  5  6  7  8  9       8  9 10 11 12 13 14       5  6  7  8  9 10 11\n",
      "10 11 12 13 14 15 16      15 16 17 18 19 20 21      12 13 14 15 16 17 18\n",
      "17 18 19 20 21 22 23      22 23 24 25 26 27 28      19 20 21 22 23 24 25\n",
      "24 25 26 27 28 29 30      29 30 31                  26 27 28 29 30\n",
      "\n",
      "        July                     August                  September\n",
      "Mo Tu We Th Fr Sa Su      Mo Tu We Th Fr Sa Su      Mo Tu We Th Fr Sa Su\n",
      "                1  2          1  2  3  4  5  6                   1  2  3\n",
      " 3  4  5  6  7  8  9       7  8  9 10 11 12 13       4  5  6  7  8  9 10\n",
      "10 11 12 13 14 15 16      14 15 16 17 18 19 20      11 12 13 14 15 16 17\n",
      "17 18 19 20 21 22 23      21 22 23 24 25 26 27      18 19 20 21 22 23 24\n",
      "24 25 26 27 28 29 30      28 29 30 31               25 26 27 28 29 30\n",
      "31\n",
      "\n",
      "      October                   November                  December\n",
      "Mo Tu We Th Fr Sa Su      Mo Tu We Th Fr Sa Su      Mo Tu We Th Fr Sa Su\n",
      "                   1             1  2  3  4  5                   1  2  3\n",
      " 2  3  4  5  6  7  8       6  7  8  9 10 11 12       4  5  6  7  8  9 10\n",
      " 9 10 11 12 13 14 15      13 14 15 16 17 18 19      11 12 13 14 15 16 17\n",
      "16 17 18 19 20 21 22      20 21 22 23 24 25 26      18 19 20 21 22 23 24\n",
      "23 24 25 26 27 28 29      27 28 29 30               25 26 27 28 29 30 31\n",
      "30 31\n",
      "\n"
     ]
    }
   ],
   "source": [
    "import calendar\n",
    "def showCalendar():\n",
    "    year=int(input(\"Enter the calendar year: \"))\n",
    "    print(calendar.calendar(year))\n",
    "showCalendar()    "
   ]
  },
  {
   "cell_type": "markdown",
   "id": "06f0f551",
   "metadata": {},
   "source": [
    "### 4. Write a Python program to solve quadratic equation?"
   ]
  },
  {
   "cell_type": "code",
   "execution_count": 9,
   "id": "2a61989a",
   "metadata": {},
   "outputs": [
    {
     "name": "stdout",
     "output_type": "stream",
     "text": [
      "Enter a value: 1\n",
      "Enter b value: 2\n",
      "Enter c value: 1\n",
      "Roots are real -1.0 -1.0\n"
     ]
    }
   ],
   "source": [
    "import cmath\n",
    "import math\n",
    "def quadraticEquationRoots(a,b,c):\n",
    "    discriminant = b*b -4*a*c\n",
    "    \n",
    "    if discriminant==0:\n",
    "        r1 = -b/2*a\n",
    "        r2 = -b/2*a\n",
    "        print(\"Roots are real\",r1,r2)\n",
    "    elif discriminant>0:\n",
    "        r1 = (-b-math.sqrt(discriminant))/(2*a)\n",
    "        r2 = (-b+math.sqrt(discriminant))/(2*a)\n",
    "        print(\"Roots are Real and different\", r1,r2)\n",
    "    else:\n",
    "        r1 = (-b-cmath.sqrt(discriminant))/(2*a)\n",
    "        r2 = (-b+cmath.sqrt(discriminant))/(2*a)\n",
    "        print(\"Roots are Imaginary\", r1, r2)\n",
    "        \n",
    "a = int(input(\"Enter a value: \"))\n",
    "b = int(input(\"Enter b value: \"))\n",
    "c = int(input(\"Enter c value: \"))\n",
    "\n",
    "quadraticEquationRoots(a,b,c)\n",
    "        "
   ]
  },
  {
   "cell_type": "markdown",
   "id": "6ecd25ad",
   "metadata": {},
   "source": [
    "### 5. Write a Python program to swap two variables without temp variable?"
   ]
  },
  {
   "cell_type": "code",
   "execution_count": 11,
   "id": "938f1120",
   "metadata": {},
   "outputs": [
    {
     "name": "stdout",
     "output_type": "stream",
     "text": [
      "Enter 1st number: 10\n",
      "Enter 2nd number: 20\n",
      "Before swapping  10 20\n",
      "After swapping  20 10\n"
     ]
    }
   ],
   "source": [
    "num1 = int(input(\"Enter 1st number: \"))\n",
    "num2 = int(input(\"Enter 2nd number: \"))\n",
    "\n",
    "def swapNumber(num1, num2):\n",
    "    print(\"Before swapping \", num1,num2)\n",
    "    num1 = num1+num2\n",
    "    num2 = num1-num2\n",
    "    num1 = num1-num2\n",
    "    print(\"After swapping \", num1, num2)\n",
    "\n",
    "swapNumber(num1,num2)    "
   ]
  },
  {
   "cell_type": "code",
   "execution_count": null,
   "id": "f921ac1f",
   "metadata": {},
   "outputs": [],
   "source": []
  }
 ],
 "metadata": {
  "kernelspec": {
   "display_name": "Python 3 (ipykernel)",
   "language": "python",
   "name": "python3"
  },
  "language_info": {
   "codemirror_mode": {
    "name": "ipython",
    "version": 3
   },
   "file_extension": ".py",
   "mimetype": "text/x-python",
   "name": "python",
   "nbconvert_exporter": "python",
   "pygments_lexer": "ipython3",
   "version": "3.9.7"
  }
 },
 "nbformat": 4,
 "nbformat_minor": 5
}
